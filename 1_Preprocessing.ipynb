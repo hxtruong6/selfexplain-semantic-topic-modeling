{
 "cells": [
  {
   "cell_type": "code",
   "execution_count": null,
   "id": "1c99e600-f385-483c-ab53-1ffb18a353f5",
   "metadata": {},
   "outputs": [],
   "source": []
  }
 ],
 "metadata": {
  "kernelspec": {
   "display_name": "semantic-topic-modeling",
   "language": "python",
   "name": "semantic-topic-modeling"
  },
  "language_info": {
   "codemirror_mode": {
    "name": "ipython",
    "version": 3
   },
   "file_extension": ".py",
   "mimetype": "text/x-python",
   "name": "python",
   "nbconvert_exporter": "python",
   "pygments_lexer": "ipython3",
   "version": "3.10.12"
  }
 },
 "nbformat": 4,
 "nbformat_minor": 5
}

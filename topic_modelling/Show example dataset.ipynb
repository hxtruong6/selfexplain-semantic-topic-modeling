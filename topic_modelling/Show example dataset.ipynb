{
 "cells": [
  {
   "cell_type": "code",
   "execution_count": 11,
   "id": "c8fced57",
   "metadata": {},
   "outputs": [],
   "source": [
    "file_path = \"/home/ubuntu/WORK/selfexplain-semantic-topic-modeling/dataset/3_tripadvisor_len_review_227per_hotel_label_vader.csv\""
   ]
  },
  {
   "cell_type": "code",
   "execution_count": 12,
   "id": "300edbb8",
   "metadata": {},
   "outputs": [],
   "source": [
    "import pandas as pd"
   ]
  },
  {
   "cell_type": "code",
   "execution_count": 13,
   "id": "26c31eb8",
   "metadata": {},
   "outputs": [
    {
     "name": "stdout",
     "output_type": "stream",
     "text": [
      "<class 'pandas.core.frame.DataFrame'>\n",
      "RangeIndex: 48198 entries, 0 to 48197\n",
      "Data columns (total 3 columns):\n",
      " #   Column       Non-Null Count  Dtype \n",
      "---  ------       --------------  ----- \n",
      " 0   hotel        48198 non-null  int64 \n",
      " 1   sentence     48198 non-null  object\n",
      " 2   label_vader  48198 non-null  int64 \n",
      "dtypes: int64(2), object(1)\n",
      "memory usage: 1.1+ MB\n"
     ]
    }
   ],
   "source": [
    "df = pd.read_csv(file_path)\n",
    "df.info()"
   ]
  },
  {
   "cell_type": "code",
   "execution_count": 22,
   "id": "c6c8e706",
   "metadata": {},
   "outputs": [
    {
     "data": {
      "text/plain": [
       "[\"The staff member ' t just drop us off , he until the train then brought our luggage to our cabin .\",\n",
       " 'My the breakfast buffet there and in their main pool .',\n",
       " 'for the !',\n",
       " 'The hotel entrance as it is , in the middle of the busy streets is a real haven .',\n",
       " 'And there are plenty of food nearby .',\n",
       " 'They are so attentive it is close to embarrassing , from up to open to what more they can do for you While I am not in of pointing out individual staff ( to the discount of the rest ) I must mention the Concierge ( whose name I have unfortunately forgotten I to go into Da city to buy some particular at the market .',\n",
       " 'Got a room facing the river .',\n",
       " 'The breakfast is tasty and plentiful .',\n",
       " '.',\n",
       " 'When we got back in the evening the smell was even worse .',\n",
       " 'are .',\n",
       " 'The Spice House restaurant .',\n",
       " 'Old , but at least the worked .',\n",
       " 'This is a small hotel with a family feel .',\n",
       " 'Our room was on the first floor .',\n",
       " 'I was confused , what the heck she was doing .',\n",
       " 'The room was very modern and had everything you could ask for .',\n",
       " 'bar .',\n",
       " 'The only negative of this resort si the price of their food and drink is very very high .',\n",
       " 'Not necessarily to call a taxi .']"
      ]
     },
     "execution_count": 22,
     "metadata": {},
     "output_type": "execute_result"
    }
   ],
   "source": [
    "df[df['label_vader']==0].sample(20).sentence.tolist()"
   ]
  },
  {
   "cell_type": "code",
   "execution_count": null,
   "id": "2409ba7c",
   "metadata": {},
   "outputs": [],
   "source": []
  },
  {
   "cell_type": "code",
   "execution_count": null,
   "id": "bf2ba8be",
   "metadata": {},
   "outputs": [],
   "source": []
  }
 ],
 "metadata": {
  "kernelspec": {
   "display_name": "bertopic",
   "language": "python",
   "name": "bertopic"
  },
  "language_info": {
   "codemirror_mode": {
    "name": "ipython",
    "version": 3
   },
   "file_extension": ".py",
   "mimetype": "text/x-python",
   "name": "python",
   "nbconvert_exporter": "python",
   "pygments_lexer": "ipython3",
   "version": "3.10.12"
  }
 },
 "nbformat": 4,
 "nbformat_minor": 5
}

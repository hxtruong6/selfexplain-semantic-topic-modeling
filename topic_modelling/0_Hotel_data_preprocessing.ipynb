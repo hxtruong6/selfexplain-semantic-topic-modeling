{
 "cells": [
  {
   "cell_type": "code",
   "execution_count": null,
   "metadata": {
    "colab": {
     "base_uri": "https://localhost:8080/"
    },
    "id": "ADmsr4PnD0RT",
    "outputId": "b92ff044-fdee-45ef-935b-d97655868bbc"
   },
   "outputs": [],
   "source": []
  },
  {
   "cell_type": "code",
   "execution_count": null,
   "metadata": {
    "id": "XPnNeMTCD7NS"
   },
   "outputs": [],
   "source": [
    "# %%capture\n",
    "# !pip install nltk\n",
    "# import nltk\n",
    "# nltk.download('words')"
   ]
  },
  {
   "cell_type": "code",
   "execution_count": 21,
   "metadata": {
    "id": "wPXEZSjiER9-"
   },
   "outputs": [
    {
     "name": "stderr",
     "output_type": "stream",
     "text": [
      "UserWarning: Port 8787 is already in use.\n",
      "Perhaps you already have a cluster running?\n",
      "Hosting the HTTP server on port 40121 instead\n"
     ]
    }
   ],
   "source": [
    "# import pandas as pd\n",
    "import modin.pandas as pd\n",
    "# import pandas\n",
    "\n",
    "#############################################\n",
    "### For the purpose of timing comparisons ###\n",
    "#############################################\n",
    "import time\n",
    "import modin\n",
    "modin.config.Engine.put(\"Dask\")\n",
    "\n",
    "from distributed import Client\n",
    "client = Client()\n"
   ]
  },
  {
   "cell_type": "code",
   "execution_count": 60,
   "metadata": {
    "scrolled": true
   },
   "outputs": [
    {
     "name": "stderr",
     "output_type": "stream",
     "text": [
      "UserWarning: \n",
      "--------------------------------------------------------------------------------\n",
      "\n",
      "  CuPy may not function correctly because multiple CuPy packages are installed\n",
      "  in your environment:\n",
      "\n",
      "    cupy, cupy-cuda12x\n",
      "\n",
      "  Follow these steps to resolve this issue:\n",
      "\n",
      "    1. For all packages listed above, run the following command to remove all\n",
      "       existing CuPy installations:\n",
      "\n",
      "         $ pip uninstall <package_name>\n",
      "\n",
      "      If you previously installed CuPy via conda, also run the following:\n",
      "\n",
      "         $ conda uninstall cupy\n",
      "\n",
      "    2. Install the appropriate CuPy package.\n",
      "       Refer to the Installation Guide for detailed instructions.\n",
      "\n",
      "         https://docs.cupy.dev/en/stable/install.html\n",
      "\n",
      "--------------------------------------------------------------------------------\n",
      "\n"
     ]
    }
   ],
   "source": [
    "import swifter\n"
   ]
  },
  {
   "cell_type": "code",
   "execution_count": null,
   "metadata": {},
   "outputs": [],
   "source": []
  },
  {
   "cell_type": "code",
   "execution_count": 23,
   "metadata": {
    "id": "hi5EIHgSD7ro"
   },
   "outputs": [],
   "source": [
    "dataset_path = \"/home/ubuntu/WORK/selfexplain-semantic-topic-modeling/dataset/tripadvisor_raw.csv\"\n",
    "# dataset_path = \"/content/1.tripadvisor_df.csv\"\n",
    "# dataset_path = \"2_tripadvisor_df_review_1807.csv\""
   ]
  },
  {
   "cell_type": "code",
   "execution_count": 49,
   "metadata": {
    "colab": {
     "base_uri": "https://localhost:8080/"
    },
    "id": "XPkmzIlYERX0",
    "outputId": "37b37f51-03b5-4bc5-884f-1c9d54083c7c"
   },
   "outputs": [
    {
     "name": "stdout",
     "output_type": "stream",
     "text": [
      "<class 'modin.pandas.dataframe.DataFrame'>\n",
      "RangeIndex: 533430 entries, 0 to 533429\n",
      "Data columns (total 24 columns):\n",
      " #   Column                  Non-Null Count   Dtype  \n",
      "---  ------                  --------------   -----  \n",
      " 0   Unnamed: 0.1            533430 non-null  int64  \n",
      " 1   Unnamed: 0              533430 non-null  int64  \n",
      " 2   user                    533430 non-null  object \n",
      " 3   user_helpful_votes      436162 non-null  object \n",
      " 4   user_contribution       462777 non-null  object \n",
      " 5   user_rate               533430 non-null  int64  \n",
      " 6   user_Value              368161 non-null  float64\n",
      " 7   user_Location           368061 non-null  float64\n",
      " 8   user_Cleanliness        369361 non-null  float64\n",
      " 9   user_Service            477812 non-null  float64\n",
      " 10  review_title            527768 non-null  object \n",
      " 11  review_text             482656 non-null  object \n",
      " 12  hotel                   533430 non-null  int64  \n",
      " 13  hotel_name              533351 non-null  object \n",
      " 14  hotel_url               533430 non-null  object \n",
      " 15  hotel_number_of_rating  533430 non-null  object \n",
      " 16  hotel_number_of_review  533430 non-null  object \n",
      " 17  hotel_address           532453 non-null  object \n",
      " 18  hotel_province          533430 non-null  object \n",
      " 19  hotel_overall_rating    533430 non-null  float64\n",
      " 20  hotel_Value             525823 non-null  float64\n",
      " 21  hotel_Location          525664 non-null  float64\n",
      " 22  hotel_Cleanliness       525219 non-null  float64\n",
      " 23  hotel_Service           530211 non-null  float64\n",
      "dtypes: float64(9), int64(4), object(11)\n",
      "memory usage: 97.7+ MB\n"
     ]
    }
   ],
   "source": [
    "import tqdm as notebook_tqdm\n",
    "\n",
    "df = pd.read_csv(dataset_path)\n",
    "df.info()"
   ]
  },
  {
   "cell_type": "code",
   "execution_count": 50,
   "metadata": {},
   "outputs": [
    {
     "name": "stdout",
     "output_type": "stream",
     "text": [
      "<class 'modin.pandas.dataframe.DataFrame'>\n",
      "Index: 482649 entries, 0 to 533429\n",
      "Data columns (total 24 columns):\n",
      " #   Column                  Non-Null Count   Dtype  \n",
      "---  ------                  --------------   -----  \n",
      " 0   Unnamed: 0.1            482649 non-null  int64  \n",
      " 1   Unnamed: 0              482649 non-null  int64  \n",
      " 2   user                    482649 non-null  object \n",
      " 3   user_helpful_votes      389823 non-null  object \n",
      " 4   user_contribution       415653 non-null  object \n",
      " 5   user_rate               482649 non-null  int64  \n",
      " 6   user_Value              329178 non-null  float64\n",
      " 7   user_Location           329376 non-null  float64\n",
      " 8   user_Cleanliness        330420 non-null  float64\n",
      " 9   user_Service            430624 non-null  float64\n",
      " 10  review_title            482649 non-null  object \n",
      " 11  review_text             482649 non-null  object \n",
      " 12  hotel                   482649 non-null  int64  \n",
      " 13  hotel_name              482578 non-null  object \n",
      " 14  hotel_url               482649 non-null  object \n",
      " 15  hotel_number_of_rating  482649 non-null  object \n",
      " 16  hotel_number_of_review  482649 non-null  object \n",
      " 17  hotel_address           481940 non-null  object \n",
      " 18  hotel_province          482649 non-null  object \n",
      " 19  hotel_overall_rating    482649 non-null  float64\n",
      " 20  hotel_Value             477196 non-null  float64\n",
      " 21  hotel_Location          477083 non-null  float64\n",
      " 22  hotel_Cleanliness       476633 non-null  float64\n",
      " 23  hotel_Service           480507 non-null  float64\n",
      "dtypes: float64(9), int64(4), object(11)\n",
      "memory usage: 92.1+ MB\n"
     ]
    }
   ],
   "source": [
    "# Drop nan review_text\n",
    "df = df[df['review_text'].notnull()]\n",
    "df = df[df['review_title'].notnull()]\n",
    "df.info()"
   ]
  },
  {
   "cell_type": "code",
   "execution_count": 51,
   "metadata": {},
   "outputs": [
    {
     "data": {
      "text/plain": [
       "7624"
      ]
     },
     "execution_count": 51,
     "metadata": {},
     "output_type": "execute_result"
    }
   ],
   "source": [
    "df['hotel'].nunique()"
   ]
  },
  {
   "cell_type": "code",
   "execution_count": 52,
   "metadata": {
    "colab": {
     "base_uri": "https://localhost:8080/",
     "height": 363
    },
    "id": "3FOepA8BEWcA",
    "outputId": "67525ec9-3ede-4f71-ebd2-f9ace2ed33a0"
   },
   "outputs": [
    {
     "data": {
      "text/html": [
       "<div>\n",
       "<style scoped>\n",
       "    .dataframe tbody tr th:only-of-type {\n",
       "        vertical-align: middle;\n",
       "    }\n",
       "\n",
       "    .dataframe tbody tr th {\n",
       "        vertical-align: top;\n",
       "    }\n",
       "\n",
       "    .dataframe thead th {\n",
       "        text-align: right;\n",
       "    }\n",
       "</style>\n",
       "<table border=\"1\" class=\"dataframe\">\n",
       "  <thead>\n",
       "    <tr style=\"text-align: right;\">\n",
       "      <th></th>\n",
       "      <th>Unnamed: 0.1</th>\n",
       "      <th>Unnamed: 0</th>\n",
       "      <th>user</th>\n",
       "      <th>user_helpful_votes</th>\n",
       "      <th>user_contribution</th>\n",
       "      <th>user_rate</th>\n",
       "      <th>user_Value</th>\n",
       "      <th>user_Location</th>\n",
       "      <th>user_Cleanliness</th>\n",
       "      <th>user_Service</th>\n",
       "      <th>...</th>\n",
       "      <th>hotel_url</th>\n",
       "      <th>hotel_number_of_rating</th>\n",
       "      <th>hotel_number_of_review</th>\n",
       "      <th>hotel_address</th>\n",
       "      <th>hotel_province</th>\n",
       "      <th>hotel_overall_rating</th>\n",
       "      <th>hotel_Value</th>\n",
       "      <th>hotel_Location</th>\n",
       "      <th>hotel_Cleanliness</th>\n",
       "      <th>hotel_Service</th>\n",
       "    </tr>\n",
       "  </thead>\n",
       "  <tbody>\n",
       "    <tr>\n",
       "      <th>451204</th>\n",
       "      <td>493582</td>\n",
       "      <td>7438</td>\n",
       "      <td>maddyc253</td>\n",
       "      <td>2</td>\n",
       "      <td>NaN</td>\n",
       "      <td>5</td>\n",
       "      <td>5.0</td>\n",
       "      <td>NaN</td>\n",
       "      <td>NaN</td>\n",
       "      <td>5.0</td>\n",
       "      <td>...</td>\n",
       "      <td>https://www.tripadvisor.com/Hotel_Review-g2980...</td>\n",
       "      <td>#61 of 382 hotels in Hoi An</td>\n",
       "      <td>469 reviews</td>\n",
       "      <td>12 Nguyen Du, Cam Pho, Hoi An 560000 Vietnam</td>\n",
       "      <td>QuangNam</td>\n",
       "      <td>5.0</td>\n",
       "      <td>5.0</td>\n",
       "      <td>5.0</td>\n",
       "      <td>5.0</td>\n",
       "      <td>5.0</td>\n",
       "    </tr>\n",
       "    <tr>\n",
       "      <th>365039</th>\n",
       "      <td>334645</td>\n",
       "      <td>70437</td>\n",
       "      <td>bartj403</td>\n",
       "      <td>NaN</td>\n",
       "      <td>2</td>\n",
       "      <td>5</td>\n",
       "      <td>3.0</td>\n",
       "      <td>4.0</td>\n",
       "      <td>4.0</td>\n",
       "      <td>4.0</td>\n",
       "      <td>...</td>\n",
       "      <td>https://www.tripadvisor.com/Hotel_Review-g2939...</td>\n",
       "      <td>#75 of 1,374 hotels in Ho Chi Minh City</td>\n",
       "      <td>459 reviews</td>\n",
       "      <td>21 - 23 Nguyen Thi Minh Khai Street, District ...</td>\n",
       "      <td>HoChiMinh</td>\n",
       "      <td>4.0</td>\n",
       "      <td>4.0</td>\n",
       "      <td>4.5</td>\n",
       "      <td>4.5</td>\n",
       "      <td>4.5</td>\n",
       "    </tr>\n",
       "    <tr>\n",
       "      <th>318514</th>\n",
       "      <td>535339</td>\n",
       "      <td>49195</td>\n",
       "      <td>ThomasJessy</td>\n",
       "      <td>7</td>\n",
       "      <td>10</td>\n",
       "      <td>5</td>\n",
       "      <td>5.0</td>\n",
       "      <td>5.0</td>\n",
       "      <td>5.0</td>\n",
       "      <td>5.0</td>\n",
       "      <td>...</td>\n",
       "      <td>https://www.tripadvisor.com/Hotel_Review-g2980...</td>\n",
       "      <td>#25 of 440 B&amp;Bs / Inns in Hoi An</td>\n",
       "      <td>333 reviews</td>\n",
       "      <td>484 Hai Ba Trung Street, Hoi An Vietnam</td>\n",
       "      <td>QuangNam</td>\n",
       "      <td>5.0</td>\n",
       "      <td>5.0</td>\n",
       "      <td>4.5</td>\n",
       "      <td>5.0</td>\n",
       "      <td>5.0</td>\n",
       "    </tr>\n",
       "    <tr>\n",
       "      <th>495567</th>\n",
       "      <td>280627</td>\n",
       "      <td>16419</td>\n",
       "      <td>senator_traveller</td>\n",
       "      <td>50</td>\n",
       "      <td>95</td>\n",
       "      <td>4</td>\n",
       "      <td>5.0</td>\n",
       "      <td>4.0</td>\n",
       "      <td>5.0</td>\n",
       "      <td>5.0</td>\n",
       "      <td>...</td>\n",
       "      <td>https://www.tripadvisor.com/Hotel_Review-g2939...</td>\n",
       "      <td>#21 of 1,374 hotels in Ho Chi Minh City</td>\n",
       "      <td>4,488 reviews</td>\n",
       "      <td>235 Nguyen Van Cu St., Ho Chi Minh City Vietnam</td>\n",
       "      <td>HoChiMinh</td>\n",
       "      <td>4.5</td>\n",
       "      <td>4.5</td>\n",
       "      <td>4.0</td>\n",
       "      <td>5.0</td>\n",
       "      <td>4.5</td>\n",
       "    </tr>\n",
       "    <tr>\n",
       "      <th>258848</th>\n",
       "      <td>176559</td>\n",
       "      <td>63260</td>\n",
       "      <td>Peter A</td>\n",
       "      <td>8</td>\n",
       "      <td>43</td>\n",
       "      <td>5</td>\n",
       "      <td>5.0</td>\n",
       "      <td>5.0</td>\n",
       "      <td>NaN</td>\n",
       "      <td>5.0</td>\n",
       "      <td>...</td>\n",
       "      <td>https://www.tripadvisor.com/Hotel_Review-g2939...</td>\n",
       "      <td>#25 of 1,199 hotels in Hanoi</td>\n",
       "      <td>2,077 reviews</td>\n",
       "      <td>21 Hang Khay Street Hoan Kiem District, Hanoi ...</td>\n",
       "      <td>HaNoi</td>\n",
       "      <td>5.0</td>\n",
       "      <td>5.0</td>\n",
       "      <td>5.0</td>\n",
       "      <td>5.0</td>\n",
       "      <td>5.0</td>\n",
       "    </tr>\n",
       "  </tbody>\n",
       "</table>\n",
       "<p>5 rows x 24 columns</p>\n",
       "</div>"
      ],
      "text/plain": [
       "        Unnamed: 0.1  Unnamed: 0               user user_helpful_votes  \\\n",
       "451204        493582        7438          maddyc253                  2   \n",
       "365039        334645       70437           bartj403                NaN   \n",
       "318514        535339       49195        ThomasJessy                  7   \n",
       "495567        280627       16419  senator_traveller                 50   \n",
       "258848        176559       63260            Peter A                  8   \n",
       "\n",
       "       user_contribution  user_rate  user_Value  user_Location  \\\n",
       "451204               NaN          5         5.0            NaN   \n",
       "365039                 2          5         3.0            4.0   \n",
       "318514                10          5         5.0            5.0   \n",
       "495567                95          4         5.0            4.0   \n",
       "258848                43          5         5.0            5.0   \n",
       "\n",
       "        user_Cleanliness  user_Service  ...  \\\n",
       "451204               NaN           5.0  ...   \n",
       "365039               4.0           4.0  ...   \n",
       "318514               5.0           5.0  ...   \n",
       "495567               5.0           5.0  ...   \n",
       "258848               NaN           5.0  ...   \n",
       "\n",
       "                                                hotel_url  \\\n",
       "451204  https://www.tripadvisor.com/Hotel_Review-g2980...   \n",
       "365039  https://www.tripadvisor.com/Hotel_Review-g2939...   \n",
       "318514  https://www.tripadvisor.com/Hotel_Review-g2980...   \n",
       "495567  https://www.tripadvisor.com/Hotel_Review-g2939...   \n",
       "258848  https://www.tripadvisor.com/Hotel_Review-g2939...   \n",
       "\n",
       "                         hotel_number_of_rating hotel_number_of_review  \\\n",
       "451204              #61 of 382 hotels in Hoi An            469 reviews   \n",
       "365039  #75 of 1,374 hotels in Ho Chi Minh City            459 reviews   \n",
       "318514         #25 of 440 B&Bs / Inns in Hoi An            333 reviews   \n",
       "495567  #21 of 1,374 hotels in Ho Chi Minh City          4,488 reviews   \n",
       "258848             #25 of 1,199 hotels in Hanoi          2,077 reviews   \n",
       "\n",
       "                                            hotel_address hotel_province  \\\n",
       "451204       12 Nguyen Du, Cam Pho, Hoi An 560000 Vietnam       QuangNam   \n",
       "365039  21 - 23 Nguyen Thi Minh Khai Street, District ...      HoChiMinh   \n",
       "318514            484 Hai Ba Trung Street, Hoi An Vietnam       QuangNam   \n",
       "495567    235 Nguyen Van Cu St., Ho Chi Minh City Vietnam      HoChiMinh   \n",
       "258848  21 Hang Khay Street Hoan Kiem District, Hanoi ...          HaNoi   \n",
       "\n",
       "       hotel_overall_rating  hotel_Value  hotel_Location  hotel_Cleanliness  \\\n",
       "451204                  5.0          5.0             5.0                5.0   \n",
       "365039                  4.0          4.0             4.5                4.5   \n",
       "318514                  5.0          5.0             4.5                5.0   \n",
       "495567                  4.5          4.5             4.0                5.0   \n",
       "258848                  5.0          5.0             5.0                5.0   \n",
       "\n",
       "        hotel_Service  \n",
       "451204            5.0  \n",
       "365039            4.5  \n",
       "318514            5.0  \n",
       "495567            4.5  \n",
       "258848            5.0  \n",
       "\n",
       "[5 rows x 24 columns]"
      ]
     },
     "execution_count": 52,
     "metadata": {},
     "output_type": "execute_result"
    }
   ],
   "source": [
    "df.sample(5)"
   ]
  },
  {
   "cell_type": "code",
   "execution_count": 53,
   "metadata": {},
   "outputs": [],
   "source": [
    "df = df.sort_values(by=['hotel'], ascending=[True])"
   ]
  },
  {
   "cell_type": "code",
   "execution_count": 54,
   "metadata": {},
   "outputs": [
    {
     "data": {
      "text/plain": [
       "Index(['Unnamed: 0.1', 'Unnamed: 0', 'user', 'user_helpful_votes',\n",
       "       'user_contribution', 'user_rate', 'user_Value', 'user_Location',\n",
       "       'user_Cleanliness', 'user_Service', 'review_title', 'review_text',\n",
       "       'hotel', 'hotel_name', 'hotel_url', 'hotel_number_of_rating',\n",
       "       'hotel_number_of_review', 'hotel_address', 'hotel_province',\n",
       "       'hotel_overall_rating', 'hotel_Value', 'hotel_Location',\n",
       "       'hotel_Cleanliness', 'hotel_Service'],\n",
       "      dtype='object')"
      ]
     },
     "execution_count": 54,
     "metadata": {},
     "output_type": "execute_result"
    }
   ],
   "source": [
    "df.columns"
   ]
  },
  {
   "cell_type": "code",
   "execution_count": 55,
   "metadata": {},
   "outputs": [],
   "source": [
    "df['review'] = df['review_title'] + \". \" + df['review_text']\n",
    "df = df[['hotel', 'review']]"
   ]
  },
  {
   "cell_type": "code",
   "execution_count": 56,
   "metadata": {},
   "outputs": [
    {
     "data": {
      "text/plain": [
       "count    7624.000000\n",
       "mean       63.306532\n",
       "std       202.878767\n",
       "min         1.000000\n",
       "25%         2.000000\n",
       "50%         6.000000\n",
       "75%        32.000000\n",
       "max      3225.000000\n",
       "Name: count, dtype: float64"
      ]
     },
     "execution_count": 56,
     "metadata": {},
     "output_type": "execute_result"
    }
   ],
   "source": [
    "df['hotel'].value_counts().describe()"
   ]
  },
  {
   "cell_type": "code",
   "execution_count": 57,
   "metadata": {},
   "outputs": [
    {
     "name": "stdout",
     "output_type": "stream",
     "text": [
      "<class 'modin.pandas.dataframe.DataFrame'>\n",
      "Index: 482649 entries, 223117 to 520412\n",
      "Data columns (total 2 columns):\n",
      " #   Column  Non-Null Count   Dtype \n",
      "---  ------  --------------   ----- \n",
      " 0   hotel   482649 non-null  int64 \n",
      " 1   review  482649 non-null  object\n",
      "dtypes: int64(1), object(1)\n",
      "memory usage: 11.0+ MB\n"
     ]
    }
   ],
   "source": [
    "df.info()"
   ]
  },
  {
   "cell_type": "markdown",
   "metadata": {},
   "source": [
    "# Split review by sentences for sentiment analysis"
   ]
  },
  {
   "cell_type": "code",
   "execution_count": 79,
   "metadata": {},
   "outputs": [
    {
     "data": {
      "text/plain": [
       "['How are you?', 'I am good', 'Good night!', 'Okay!']"
      ]
     },
     "execution_count": 79,
     "metadata": {},
     "output_type": "execute_result"
    }
   ],
   "source": [
    "from nltk.tokenize import sent_tokenize, word_tokenize\n",
    "# nltk.download('punkt')\n",
    "\n",
    "docs = [\"How are you? I am good\", \"Good night! Okay!\"]\n",
    "sentences = [sent_tokenize(abstract) for abstract in docs]\n",
    "sentences = [sentence for doc in sentences for sentence in doc]\n",
    "sentences"
   ]
  },
  {
   "cell_type": "code",
   "execution_count": 89,
   "metadata": {},
   "outputs": [
    {
     "data": {
      "text/plain": [
       "count    119.000000\n",
       "mean      60.915966\n",
       "std       17.601319\n",
       "min       40.000000\n",
       "25%       46.000000\n",
       "50%       55.000000\n",
       "75%       74.000000\n",
       "max      108.000000\n",
       "Name: count, dtype: float64"
      ]
     },
     "execution_count": 89,
     "metadata": {},
     "output_type": "execute_result"
    }
   ],
   "source": [
    "df['hotel'].value_counts().describe()"
   ]
  },
  {
   "cell_type": "code",
   "execution_count": 80,
   "metadata": {},
   "outputs": [],
   "source": [
    "def split_sent(sents):\n",
    "    sentences = [sent_tokenize(abstract) for abstract in sents]\n",
    "    return [sentence for doc in sentences for sentence in doc]"
   ]
  },
  {
   "cell_type": "code",
   "execution_count": 94,
   "metadata": {
    "scrolled": true
   },
   "outputs": [
    {
     "name": "stderr",
     "output_type": "stream",
     "text": [
      "UserWarning: Group indices computation is not currently supported by PandasOnDask, defaulting to pandas implementation.\n",
      "UserWarning: <function Series.tolist> is not currently supported by PandasOnDask, defaulting to pandas implementation.\n",
      "UserWarning: <function Series.tolist> is not currently supported by PandasOnDask, defaulting to pandas implementation.\n",
      "UserWarning: <function Series.tolist> is not currently supported by PandasOnDask, defaulting to pandas implementation.\n",
      "UserWarning: <function Series.tolist> is not currently supported by PandasOnDask, defaulting to pandas implementation.\n"
     ]
    },
    {
     "name": "stdout",
     "output_type": "stream",
     "text": [
      "Split sentence in 299586\n",
      "Split sentence in 299783\n",
      "Split sentence in 300325\n",
      "Split sentence in 300810\n",
      "Split sentence in 301984\n"
     ]
    },
    {
     "name": "stderr",
     "output_type": "stream",
     "text": [
      "UserWarning: <function Series.tolist> is not currently supported by PandasOnDask, defaulting to pandas implementation.\n",
      "UserWarning: <function Series.tolist> is not currently supported by PandasOnDask, defaulting to pandas implementation.\n",
      "UserWarning: <function Series.tolist> is not currently supported by PandasOnDask, defaulting to pandas implementation.\n",
      "UserWarning: <function Series.tolist> is not currently supported by PandasOnDask, defaulting to pandas implementation.\n"
     ]
    },
    {
     "name": "stdout",
     "output_type": "stream",
     "text": [
      "Split sentence in 302627\n",
      "Split sentence in 302746\n",
      "Split sentence in 302750\n",
      "Split sentence in 302751\n",
      "Split sentence in 302784\n",
      "Split sentence in 302836\n",
      "Split sentence in 302838\n",
      "Split sentence in 302847\n"
     ]
    },
    {
     "name": "stderr",
     "output_type": "stream",
     "text": [
      "UserWarning: <function Series.tolist> is not currently supported by PandasOnDask, defaulting to pandas implementation.\n",
      "UserWarning: <function Series.tolist> is not currently supported by PandasOnDask, defaulting to pandas implementation.\n",
      "UserWarning: <function Series.tolist> is not currently supported by PandasOnDask, defaulting to pandas implementation.\n",
      "UserWarning: <function Series.tolist> is not currently supported by PandasOnDask, defaulting to pandas implementation.\n",
      "UserWarning: <function Series.tolist> is not currently supported by PandasOnDask, defaulting to pandas implementation.\n"
     ]
    },
    {
     "name": "stdout",
     "output_type": "stream",
     "text": [
      "Split sentence in 304523\n",
      "Split sentence in 306185\n",
      "Split sentence in 306225\n",
      "Split sentence in 313715\n",
      "Split sentence in 451099\n"
     ]
    },
    {
     "name": "stderr",
     "output_type": "stream",
     "text": [
      "UserWarning: <function Series.tolist> is not currently supported by PandasOnDask, defaulting to pandas implementation.\n",
      "UserWarning: <function Series.tolist> is not currently supported by PandasOnDask, defaulting to pandas implementation.\n",
      "UserWarning: <function Series.tolist> is not currently supported by PandasOnDask, defaulting to pandas implementation.\n",
      "UserWarning: <function Series.tolist> is not currently supported by PandasOnDask, defaulting to pandas implementation.\n",
      "UserWarning: <function Series.tolist> is not currently supported by PandasOnDask, defaulting to pandas implementation.\n"
     ]
    },
    {
     "name": "stdout",
     "output_type": "stream",
     "text": [
      "Split sentence in 456978\n",
      "Split sentence in 528397\n",
      "Split sentence in 530532\n",
      "Split sentence in 577218\n",
      "Split sentence in 578971\n"
     ]
    },
    {
     "name": "stderr",
     "output_type": "stream",
     "text": [
      "UserWarning: <function Series.tolist> is not currently supported by PandasOnDask, defaulting to pandas implementation.\n",
      "UserWarning: <function Series.tolist> is not currently supported by PandasOnDask, defaulting to pandas implementation.\n",
      "UserWarning: <function Series.tolist> is not currently supported by PandasOnDask, defaulting to pandas implementation.\n",
      "UserWarning: <function Series.tolist> is not currently supported by PandasOnDask, defaulting to pandas implementation.\n",
      "UserWarning: <function Series.tolist> is not currently supported by PandasOnDask, defaulting to pandas implementation.\n"
     ]
    },
    {
     "name": "stdout",
     "output_type": "stream",
     "text": [
      "Split sentence in 582872\n",
      "Split sentence in 588636\n",
      "Split sentence in 612806\n",
      "Split sentence in 614747\n",
      "Split sentence in 623868\n"
     ]
    },
    {
     "name": "stderr",
     "output_type": "stream",
     "text": [
      "UserWarning: <function Series.tolist> is not currently supported by PandasOnDask, defaulting to pandas implementation.\n",
      "UserWarning: <function Series.tolist> is not currently supported by PandasOnDask, defaulting to pandas implementation.\n",
      "UserWarning: <function Series.tolist> is not currently supported by PandasOnDask, defaulting to pandas implementation.\n",
      "UserWarning: <function Series.tolist> is not currently supported by PandasOnDask, defaulting to pandas implementation.\n",
      "UserWarning: <function Series.tolist> is not currently supported by PandasOnDask, defaulting to pandas implementation.\n"
     ]
    },
    {
     "name": "stdout",
     "output_type": "stream",
     "text": [
      "Split sentence in 623907\n",
      "Split sentence in 624980\n",
      "Split sentence in 634189\n",
      "Split sentence in 634749\n",
      "Split sentence in 644972\n"
     ]
    },
    {
     "name": "stderr",
     "output_type": "stream",
     "text": [
      "UserWarning: <function Series.tolist> is not currently supported by PandasOnDask, defaulting to pandas implementation.\n",
      "UserWarning: <function Series.tolist> is not currently supported by PandasOnDask, defaulting to pandas implementation.\n",
      "UserWarning: <function Series.tolist> is not currently supported by PandasOnDask, defaulting to pandas implementation.\n",
      "UserWarning: <function Series.tolist> is not currently supported by PandasOnDask, defaulting to pandas implementation.\n",
      "UserWarning: <function Series.tolist> is not currently supported by PandasOnDask, defaulting to pandas implementation.\n"
     ]
    },
    {
     "name": "stdout",
     "output_type": "stream",
     "text": [
      "Split sentence in 667775\n",
      "Split sentence in 676046\n",
      "Split sentence in 678212\n",
      "Split sentence in 815139\n",
      "Split sentence in 833276\n"
     ]
    },
    {
     "name": "stderr",
     "output_type": "stream",
     "text": [
      "UserWarning: <function Series.tolist> is not currently supported by PandasOnDask, defaulting to pandas implementation.\n",
      "UserWarning: <function Series.tolist> is not currently supported by PandasOnDask, defaulting to pandas implementation.\n",
      "UserWarning: <function Series.tolist> is not currently supported by PandasOnDask, defaulting to pandas implementation.\n",
      "UserWarning: <function Series.tolist> is not currently supported by PandasOnDask, defaulting to pandas implementation.\n",
      "UserWarning: <function Series.tolist> is not currently supported by PandasOnDask, defaulting to pandas implementation.\n"
     ]
    },
    {
     "name": "stdout",
     "output_type": "stream",
     "text": [
      "Split sentence in 943876\n",
      "Split sentence in 1090179\n",
      "Split sentence in 1157801\n",
      "Split sentence in 1178145\n",
      "Split sentence in 1200978\n"
     ]
    },
    {
     "name": "stderr",
     "output_type": "stream",
     "text": [
      "UserWarning: <function Series.tolist> is not currently supported by PandasOnDask, defaulting to pandas implementation.\n",
      "UserWarning: <function Series.tolist> is not currently supported by PandasOnDask, defaulting to pandas implementation.\n",
      "UserWarning: <function Series.tolist> is not currently supported by PandasOnDask, defaulting to pandas implementation.\n",
      "UserWarning: <function Series.tolist> is not currently supported by PandasOnDask, defaulting to pandas implementation.\n",
      "UserWarning: <function Series.tolist> is not currently supported by PandasOnDask, defaulting to pandas implementation.\n"
     ]
    },
    {
     "name": "stdout",
     "output_type": "stream",
     "text": [
      "Split sentence in 1420780\n",
      "Split sentence in 1533551\n",
      "Split sentence in 1546077\n",
      "Split sentence in 1554688\n",
      "Split sentence in 1638735\n"
     ]
    },
    {
     "name": "stderr",
     "output_type": "stream",
     "text": [
      "UserWarning: <function Series.tolist> is not currently supported by PandasOnDask, defaulting to pandas implementation.\n",
      "UserWarning: <function Series.tolist> is not currently supported by PandasOnDask, defaulting to pandas implementation.\n",
      "UserWarning: <function Series.tolist> is not currently supported by PandasOnDask, defaulting to pandas implementation.\n",
      "UserWarning: <function Series.tolist> is not currently supported by PandasOnDask, defaulting to pandas implementation.\n",
      "UserWarning: <function Series.tolist> is not currently supported by PandasOnDask, defaulting to pandas implementation.\n"
     ]
    },
    {
     "name": "stdout",
     "output_type": "stream",
     "text": [
      "Split sentence in 1656786\n",
      "Split sentence in 1732187\n",
      "Split sentence in 1775787\n",
      "Split sentence in 1823746\n",
      "Split sentence in 1896319\n"
     ]
    },
    {
     "name": "stderr",
     "output_type": "stream",
     "text": [
      "UserWarning: <function Series.tolist> is not currently supported by PandasOnDask, defaulting to pandas implementation.\n",
      "UserWarning: <function Series.tolist> is not currently supported by PandasOnDask, defaulting to pandas implementation.\n",
      "UserWarning: <function Series.tolist> is not currently supported by PandasOnDask, defaulting to pandas implementation.\n",
      "UserWarning: <function Series.tolist> is not currently supported by PandasOnDask, defaulting to pandas implementation.\n",
      "UserWarning: <function Series.tolist> is not currently supported by PandasOnDask, defaulting to pandas implementation.\n"
     ]
    },
    {
     "name": "stdout",
     "output_type": "stream",
     "text": [
      "Split sentence in 1930272\n",
      "Split sentence in 1951646\n",
      "Split sentence in 2151597\n",
      "Split sentence in 2179507\n"
     ]
    },
    {
     "name": "stderr",
     "output_type": "stream",
     "text": [
      "UserWarning: <function Series.tolist> is not currently supported by PandasOnDask, defaulting to pandas implementation.\n",
      "UserWarning: <function Series.tolist> is not currently supported by PandasOnDask, defaulting to pandas implementation.\n",
      "UserWarning: <function Series.tolist> is not currently supported by PandasOnDask, defaulting to pandas implementation.\n",
      "UserWarning: <function Series.tolist> is not currently supported by PandasOnDask, defaulting to pandas implementation.\n"
     ]
    },
    {
     "name": "stdout",
     "output_type": "stream",
     "text": [
      "Split sentence in 2316221\n",
      "Split sentence in 2328401\n",
      "Split sentence in 2337240\n",
      "Split sentence in 2340470\n"
     ]
    },
    {
     "name": "stderr",
     "output_type": "stream",
     "text": [
      "UserWarning: <function Series.tolist> is not currently supported by PandasOnDask, defaulting to pandas implementation.\n",
      "UserWarning: <function Series.tolist> is not currently supported by PandasOnDask, defaulting to pandas implementation.\n",
      "UserWarning: <function Series.tolist> is not currently supported by PandasOnDask, defaulting to pandas implementation.\n",
      "UserWarning: <function Series.tolist> is not currently supported by PandasOnDask, defaulting to pandas implementation.\n"
     ]
    },
    {
     "name": "stdout",
     "output_type": "stream",
     "text": [
      "Split sentence in 2350513\n",
      "Split sentence in 2521380\n",
      "Split sentence in 2522966\n",
      "Split sentence in 2555547\n",
      "Split sentence in 2557683\n"
     ]
    },
    {
     "name": "stderr",
     "output_type": "stream",
     "text": [
      "UserWarning: <function Series.tolist> is not currently supported by PandasOnDask, defaulting to pandas implementation.\n",
      "UserWarning: <function Series.tolist> is not currently supported by PandasOnDask, defaulting to pandas implementation.\n",
      "UserWarning: <function Series.tolist> is not currently supported by PandasOnDask, defaulting to pandas implementation.\n",
      "UserWarning: <function Series.tolist> is not currently supported by PandasOnDask, defaulting to pandas implementation.\n",
      "UserWarning: <function Series.tolist> is not currently supported by PandasOnDask, defaulting to pandas implementation.\n"
     ]
    },
    {
     "name": "stdout",
     "output_type": "stream",
     "text": [
      "Split sentence in 2697629\n",
      "Split sentence in 2719167\n",
      "Split sentence in 3245017\n",
      "Split sentence in 3478091\n",
      "Split sentence in 3478132\n"
     ]
    },
    {
     "name": "stderr",
     "output_type": "stream",
     "text": [
      "UserWarning: <function Series.tolist> is not currently supported by PandasOnDask, defaulting to pandas implementation.\n",
      "UserWarning: <function Series.tolist> is not currently supported by PandasOnDask, defaulting to pandas implementation.\n",
      "UserWarning: <function Series.tolist> is not currently supported by PandasOnDask, defaulting to pandas implementation.\n",
      "UserWarning: <function Series.tolist> is not currently supported by PandasOnDask, defaulting to pandas implementation.\n",
      "UserWarning: <function Series.tolist> is not currently supported by PandasOnDask, defaulting to pandas implementation.\n"
     ]
    },
    {
     "name": "stdout",
     "output_type": "stream",
     "text": [
      "Split sentence in 3504912\n",
      "Split sentence in 3511123\n",
      "Split sentence in 3591222\n",
      "Split sentence in 3591310\n",
      "Split sentence in 3729442\n"
     ]
    },
    {
     "name": "stderr",
     "output_type": "stream",
     "text": [
      "UserWarning: <function Series.tolist> is not currently supported by PandasOnDask, defaulting to pandas implementation.\n",
      "UserWarning: <function Series.tolist> is not currently supported by PandasOnDask, defaulting to pandas implementation.\n",
      "UserWarning: <function Series.tolist> is not currently supported by PandasOnDask, defaulting to pandas implementation.\n",
      "UserWarning: <function Series.tolist> is not currently supported by PandasOnDask, defaulting to pandas implementation.\n",
      "UserWarning: <function Series.tolist> is not currently supported by PandasOnDask, defaulting to pandas implementation.\n"
     ]
    },
    {
     "name": "stdout",
     "output_type": "stream",
     "text": [
      "Split sentence in 3745968\n",
      "Split sentence in 3913966\n",
      "Split sentence in 4137737\n",
      "Split sentence in 4206692\n",
      "Split sentence in 4456285\n"
     ]
    },
    {
     "name": "stderr",
     "output_type": "stream",
     "text": [
      "UserWarning: <function Series.tolist> is not currently supported by PandasOnDask, defaulting to pandas implementation.\n",
      "UserWarning: <function Series.tolist> is not currently supported by PandasOnDask, defaulting to pandas implementation.\n",
      "UserWarning: <function Series.tolist> is not currently supported by PandasOnDask, defaulting to pandas implementation.\n",
      "UserWarning: <function Series.tolist> is not currently supported by PandasOnDask, defaulting to pandas implementation.\n",
      "UserWarning: <function Series.tolist> is not currently supported by PandasOnDask, defaulting to pandas implementation.\n"
     ]
    },
    {
     "name": "stdout",
     "output_type": "stream",
     "text": [
      "Split sentence in 4474103\n",
      "Split sentence in 4480485\n",
      "Split sentence in 4609521\n",
      "Split sentence in 4993403\n",
      "Split sentence in 5049935\n"
     ]
    },
    {
     "name": "stderr",
     "output_type": "stream",
     "text": [
      "UserWarning: <function Series.tolist> is not currently supported by PandasOnDask, defaulting to pandas implementation.\n",
      "UserWarning: <function Series.tolist> is not currently supported by PandasOnDask, defaulting to pandas implementation.\n",
      "UserWarning: <function Series.tolist> is not currently supported by PandasOnDask, defaulting to pandas implementation.\n",
      "UserWarning: <function Series.tolist> is not currently supported by PandasOnDask, defaulting to pandas implementation.\n",
      "UserWarning: <function Series.tolist> is not currently supported by PandasOnDask, defaulting to pandas implementation.\n"
     ]
    },
    {
     "name": "stdout",
     "output_type": "stream",
     "text": [
      "Split sentence in 5413070\n",
      "Split sentence in 5508253\n",
      "Split sentence in 6370235\n",
      "Split sentence in 6406839\n",
      "Split sentence in 6416461\n"
     ]
    },
    {
     "name": "stderr",
     "output_type": "stream",
     "text": [
      "UserWarning: <function Series.tolist> is not currently supported by PandasOnDask, defaulting to pandas implementation.\n",
      "UserWarning: <function Series.tolist> is not currently supported by PandasOnDask, defaulting to pandas implementation.\n",
      "UserWarning: <function Series.tolist> is not currently supported by PandasOnDask, defaulting to pandas implementation.\n",
      "UserWarning: <function Series.tolist> is not currently supported by PandasOnDask, defaulting to pandas implementation.\n",
      "UserWarning: <function Series.tolist> is not currently supported by PandasOnDask, defaulting to pandas implementation.\n"
     ]
    },
    {
     "name": "stdout",
     "output_type": "stream",
     "text": [
      "Split sentence in 6533098\n",
      "Split sentence in 6691681\n",
      "Split sentence in 6697462\n",
      "Split sentence in 7094399\n",
      "Split sentence in 7182682\n"
     ]
    },
    {
     "name": "stderr",
     "output_type": "stream",
     "text": [
      "UserWarning: <function Series.tolist> is not currently supported by PandasOnDask, defaulting to pandas implementation.\n",
      "UserWarning: <function Series.tolist> is not currently supported by PandasOnDask, defaulting to pandas implementation.\n",
      "UserWarning: <function Series.tolist> is not currently supported by PandasOnDask, defaulting to pandas implementation.\n",
      "UserWarning: <function Series.tolist> is not currently supported by PandasOnDask, defaulting to pandas implementation.\n",
      "UserWarning: <function Series.tolist> is not currently supported by PandasOnDask, defaulting to pandas implementation.\n"
     ]
    },
    {
     "name": "stdout",
     "output_type": "stream",
     "text": [
      "Split sentence in 7309526\n",
      "Split sentence in 7369358\n",
      "Split sentence in 7617524\n",
      "Split sentence in 7856034\n",
      "Split sentence in 7915166\n"
     ]
    },
    {
     "name": "stderr",
     "output_type": "stream",
     "text": [
      "UserWarning: <function Series.tolist> is not currently supported by PandasOnDask, defaulting to pandas implementation.\n",
      "UserWarning: <function Series.tolist> is not currently supported by PandasOnDask, defaulting to pandas implementation.\n",
      "UserWarning: <function Series.tolist> is not currently supported by PandasOnDask, defaulting to pandas implementation.\n",
      "UserWarning: <function Series.tolist> is not currently supported by PandasOnDask, defaulting to pandas implementation.\n",
      "UserWarning: <function Series.tolist> is not currently supported by PandasOnDask, defaulting to pandas implementation.\n"
     ]
    },
    {
     "name": "stdout",
     "output_type": "stream",
     "text": [
      "Split sentence in 8595053\n",
      "Split sentence in 8615276\n",
      "Split sentence in 8643198\n",
      "Split sentence in 8773680\n",
      "Split sentence in 9595723\n"
     ]
    },
    {
     "name": "stderr",
     "output_type": "stream",
     "text": [
      "UserWarning: <function Series.tolist> is not currently supported by PandasOnDask, defaulting to pandas implementation.\n",
      "UserWarning: <function Series.tolist> is not currently supported by PandasOnDask, defaulting to pandas implementation.\n",
      "UserWarning: <function Series.tolist> is not currently supported by PandasOnDask, defaulting to pandas implementation.\n",
      "UserWarning: <function Series.tolist> is not currently supported by PandasOnDask, defaulting to pandas implementation.\n",
      "UserWarning: <function Series.tolist> is not currently supported by PandasOnDask, defaulting to pandas implementation.\n"
     ]
    },
    {
     "name": "stdout",
     "output_type": "stream",
     "text": [
      "Split sentence in 9761938\n",
      "Split sentence in 9786699\n",
      "Split sentence in 10150919\n",
      "Split sentence in 10311875\n",
      "Split sentence in 10432881\n"
     ]
    },
    {
     "name": "stderr",
     "output_type": "stream",
     "text": [
      "UserWarning: <function Series.tolist> is not currently supported by PandasOnDask, defaulting to pandas implementation.\n",
      "UserWarning: <function Series.tolist> is not currently supported by PandasOnDask, defaulting to pandas implementation.\n",
      "UserWarning: <function Series.tolist> is not currently supported by PandasOnDask, defaulting to pandas implementation.\n",
      "UserWarning: <function Series.tolist> is not currently supported by PandasOnDask, defaulting to pandas implementation.\n",
      "UserWarning: <function Series.tolist> is not currently supported by PandasOnDask, defaulting to pandas implementation.\n"
     ]
    },
    {
     "name": "stdout",
     "output_type": "stream",
     "text": [
      "Split sentence in 10768488\n",
      "Split sentence in 11928570\n",
      "Split sentence in 12158095\n",
      "Split sentence in 12213991\n",
      "Split sentence in 12250031\n"
     ]
    },
    {
     "name": "stderr",
     "output_type": "stream",
     "text": [
      "UserWarning: <function Series.tolist> is not currently supported by PandasOnDask, defaulting to pandas implementation.\n",
      "UserWarning: <function Series.tolist> is not currently supported by PandasOnDask, defaulting to pandas implementation.\n",
      "UserWarning: <function Series.tolist> is not currently supported by PandasOnDask, defaulting to pandas implementation.\n",
      "UserWarning: <function Series.tolist> is not currently supported by PandasOnDask, defaulting to pandas implementation.\n",
      "UserWarning: <function Series.tolist> is not currently supported by PandasOnDask, defaulting to pandas implementation.\n"
     ]
    },
    {
     "name": "stdout",
     "output_type": "stream",
     "text": [
      "Split sentence in 12275911\n",
      "Split sentence in 12645634\n",
      "Split sentence in 15118858\n"
     ]
    },
    {
     "name": "stderr",
     "output_type": "stream",
     "text": [
      "UserWarning: <function Series.tolist> is not currently supported by PandasOnDask, defaulting to pandas implementation.\n",
      "UserWarning: <function Series.tolist> is not currently supported by PandasOnDask, defaulting to pandas implementation.\n",
      "UserWarning: <function Series.tolist> is not currently supported by PandasOnDask, defaulting to pandas implementation.\n"
     ]
    }
   ],
   "source": [
    "# Group the DataFrame by the 'Category' column\n",
    "grouped_df = df.groupby('hotel')\n",
    "\n",
    "sent_df = {\n",
    "    'hotel': [],\n",
    "    'sentence': []\n",
    "}\n",
    "\n",
    "N = 100000\n",
    "N_sents = 1000\n",
    "# Iterate over the groups and perform operations\n",
    "for group_name, group_data in grouped_df:\n",
    "    if len(sent_df) > N:\n",
    "        break\n",
    "    print(f\"Split sentence in {group_name}\")\n",
    "    sens = split_sent(group_data['review'].tolist())\n",
    "#     print(sens)\n",
    "    \n",
    "    \n",
    "    for i in range(min(len(sens), N_sents)):\n",
    "        sen = sens[i]\n",
    "        sent_df['hotel'].append(int(group_name))\n",
    "        sent_df['sentence'].append(sen)\n",
    "#     break"
   ]
  },
  {
   "cell_type": "code",
   "execution_count": 95,
   "metadata": {},
   "outputs": [
    {
     "name": "stderr",
     "output_type": "stream",
     "text": [
      "UserWarning: Distributing <class 'dict'> object. This may take some time.\n"
     ]
    },
    {
     "name": "stdout",
     "output_type": "stream",
     "text": [
      "<class 'modin.pandas.dataframe.DataFrame'>\n",
      "RangeIndex: 48198 entries, 0 to 48197\n",
      "Data columns (total 2 columns):\n",
      " #   Column    Non-Null Count  Dtype \n",
      "---  ------    --------------  ----- \n",
      " 0   hotel     48198 non-null  int64 \n",
      " 1   sentence  48198 non-null  object\n",
      "dtypes: int64(1), object(1)\n",
      "memory usage: 753.2+ KB\n"
     ]
    }
   ],
   "source": [
    "df2 = pd.DataFrame(sent_df)\n",
    "df2.info()"
   ]
  },
  {
   "cell_type": "code",
   "execution_count": null,
   "metadata": {},
   "outputs": [],
   "source": []
  },
  {
   "cell_type": "code",
   "execution_count": 100,
   "metadata": {},
   "outputs": [
    {
     "name": "stdout",
     "output_type": "stream",
     "text": [
      "    hotel                                           sentence\n",
      "0  299586  Why do you ask for a deposit I ' m on business...\n",
      "1  299586  Upon check in , i was to pay a deposit , since...\n",
      "2  299586  This is not my first stay at the hotel , and i...\n",
      "3  299586  , I ' m not sure this policy only to this spec...\n",
      "4  299586  Maybe you can find other less direct than a de...\n",
      "count    119.000000\n",
      "mean     405.025210\n",
      "std      119.489412\n",
      "min      227.000000\n",
      "25%      311.500000\n",
      "50%      372.000000\n",
      "75%      489.000000\n",
      "max      768.000000\n",
      "Name: count, dtype: float64\n"
     ]
    }
   ],
   "source": [
    "print(df2.head())\n",
    "print(df2['hotel'].value_counts().describe())"
   ]
  },
  {
   "cell_type": "code",
   "execution_count": 102,
   "metadata": {},
   "outputs": [],
   "source": [
    "df = df2"
   ]
  },
  {
   "cell_type": "code",
   "execution_count": 108,
   "metadata": {},
   "outputs": [
    {
     "name": "stdout",
     "output_type": "stream",
     "text": [
      "<class 'modin.pandas.dataframe.DataFrame'>\n",
      "RangeIndex: 48198 entries, 0 to 48197\n",
      "Data columns (total 2 columns):\n",
      " #   Column    Non-Null Count  Dtype \n",
      "---  ------    --------------  ----- \n",
      " 0   hotel     48198 non-null  int64 \n",
      " 1   sentence  48198 non-null  object\n",
      "dtypes: int64(1), object(1)\n",
      "memory usage: 753.2+ KB\n"
     ]
    }
   ],
   "source": [
    "df.info()"
   ]
  },
  {
   "cell_type": "code",
   "execution_count": 104,
   "metadata": {},
   "outputs": [
    {
     "name": "stderr",
     "output_type": "stream",
     "text": [
      "UserWarning: `to_csv` is not currently supported by PandasOnDask, defaulting to pandas implementation.\n"
     ]
    }
   ],
   "source": [
    "folder = '/home/ubuntu/WORK/selfexplain-semantic-topic-modeling/dataset'\n",
    "df.to_csv(folder +'/2_tripadvisor_len_review_227per_hotel.csv', index = False)"
   ]
  },
  {
   "cell_type": "markdown",
   "metadata": {},
   "source": [
    "### Filter hotel have more than N reviews"
   ]
  },
  {
   "cell_type": "code",
   "execution_count": 72,
   "metadata": {},
   "outputs": [
    {
     "name": "stdout",
     "output_type": "stream",
     "text": [
      "<class 'modin.pandas.dataframe.DataFrame'>\n",
      "Index: 197561 entries, 222313 to 494825\n",
      "Data columns (total 2 columns):\n",
      " #   Column  Non-Null Count   Dtype \n",
      "---  ------  --------------   ----- \n",
      " 0   hotel   197561 non-null  int64 \n",
      " 1   review  197561 non-null  object\n",
      "dtypes: int64(1), object(1)\n",
      "memory usage: 4.5+ MB\n"
     ]
    }
   ],
   "source": [
    "N = 500\n",
    "filtered_df = df[(df.groupby('hotel')['hotel'].transform('count') >= N )\n",
    "                 & (df.groupby('hotel')['hotel'].transform('count') < 2000)]\n",
    "filtered_df.info()"
   ]
  },
  {
   "cell_type": "code",
   "execution_count": 73,
   "metadata": {},
   "outputs": [
    {
     "data": {
      "text/plain": [
       "count     212.000000\n",
       "mean      931.891509\n",
       "std       404.206733\n",
       "min       502.000000\n",
       "25%       605.750000\n",
       "50%       783.500000\n",
       "75%      1156.250000\n",
       "max      1982.000000\n",
       "Name: count, dtype: float64"
      ]
     },
     "execution_count": 73,
     "metadata": {},
     "output_type": "execute_result"
    }
   ],
   "source": [
    "filtered_df['hotel'].value_counts().describe()"
   ]
  },
  {
   "cell_type": "code",
   "execution_count": 74,
   "metadata": {},
   "outputs": [
    {
     "data": {
      "text/html": [
       "<div>\n",
       "<style scoped>\n",
       "    .dataframe tbody tr th:only-of-type {\n",
       "        vertical-align: middle;\n",
       "    }\n",
       "\n",
       "    .dataframe tbody tr th {\n",
       "        vertical-align: top;\n",
       "    }\n",
       "\n",
       "    .dataframe thead th {\n",
       "        text-align: right;\n",
       "    }\n",
       "</style>\n",
       "<table border=\"1\" class=\"dataframe\">\n",
       "  <thead>\n",
       "    <tr style=\"text-align: right;\">\n",
       "      <th></th>\n",
       "      <th>hotel</th>\n",
       "      <th>review</th>\n",
       "    </tr>\n",
       "  </thead>\n",
       "  <tbody>\n",
       "    <tr>\n",
       "      <th>532218</th>\n",
       "      <td>7379325</td>\n",
       "      <td>very good . Hotel is very nice , is nice and f...</td>\n",
       "    </tr>\n",
       "    <tr>\n",
       "      <th>489576</th>\n",
       "      <td>302751</td>\n",
       "      <td>Nice stay . We stayed here after out of anothe...</td>\n",
       "    </tr>\n",
       "    <tr>\n",
       "      <th>274596</th>\n",
       "      <td>2555547</td>\n",
       "      <td>Best Hotel in , worth a We stayed for two nigh...</td>\n",
       "    </tr>\n",
       "    <tr>\n",
       "      <th>276120</th>\n",
       "      <td>302627</td>\n",
       "      <td>Solid Choice in . I stayed here with for a few...</td>\n",
       "    </tr>\n",
       "    <tr>\n",
       "      <th>289466</th>\n",
       "      <td>11928570</td>\n",
       "      <td>Great Hotel . Great hotel in District , close ...</td>\n",
       "    </tr>\n",
       "  </tbody>\n",
       "</table>\n",
       "</div>"
      ],
      "text/plain": [
       "           hotel                                             review\n",
       "532218   7379325  very good . Hotel is very nice , is nice and f...\n",
       "489576    302751  Nice stay . We stayed here after out of anothe...\n",
       "274596   2555547  Best Hotel in , worth a We stayed for two nigh...\n",
       "276120    302627  Solid Choice in . I stayed here with for a few...\n",
       "289466  11928570  Great Hotel . Great hotel in District , close ..."
      ]
     },
     "execution_count": 74,
     "metadata": {},
     "output_type": "execute_result"
    }
   ],
   "source": [
    "filtered_df.sample(5)"
   ]
  },
  {
   "cell_type": "code",
   "execution_count": 17,
   "metadata": {},
   "outputs": [
    {
     "name": "stdout",
     "output_type": "stream",
     "text": [
      "<class 'pandas.core.frame.DataFrame'>\n",
      "Index: 202157 entries, 54831 to 8944\n",
      "Data columns (total 2 columns):\n",
      " #   Column  Non-Null Count   Dtype \n",
      "---  ------  --------------   ----- \n",
      " 0   hotel   202157 non-null  int64 \n",
      " 1   review  202157 non-null  object\n",
      "dtypes: int64(1), object(1)\n",
      "memory usage: 4.6+ MB\n"
     ]
    }
   ],
   "source": [
    "# df = filtered_df\n",
    "# df.info()"
   ]
  },
  {
   "cell_type": "code",
   "execution_count": 75,
   "metadata": {},
   "outputs": [
    {
     "data": {
      "text/plain": [
       "count    212.000000\n",
       "mean      47.169811\n",
       "std       20.698912\n",
       "min       18.000000\n",
       "25%       31.000000\n",
       "50%       43.000000\n",
       "75%       57.250000\n",
       "max      108.000000\n",
       "Name: count, dtype: float64"
      ]
     },
     "execution_count": 75,
     "metadata": {},
     "output_type": "execute_result"
    }
   ],
   "source": [
    "df_ = filtered_df.sample(10000, random_state=29)\n",
    "df_['hotel'].value_counts().describe()\n"
   ]
  },
  {
   "cell_type": "code",
   "execution_count": 76,
   "metadata": {},
   "outputs": [
    {
     "name": "stdout",
     "output_type": "stream",
     "text": [
      "<class 'modin.pandas.dataframe.DataFrame'>\n",
      "Index: 7249 entries, 5515 to 291943\n",
      "Data columns (total 2 columns):\n",
      " #   Column  Non-Null Count  Dtype \n",
      "---  ------  --------------  ----- \n",
      " 0   hotel   7249 non-null   int64 \n",
      " 1   review  7249 non-null   object\n",
      "dtypes: int64(1), object(1)\n",
      "memory usage: 169.9+ KB\n"
     ]
    }
   ],
   "source": [
    "df_ = df_[(df_.groupby('hotel')['hotel'].transform('count') >= 40)]\n",
    "df_.info()"
   ]
  },
  {
   "cell_type": "code",
   "execution_count": 77,
   "metadata": {},
   "outputs": [],
   "source": [
    "df = df_"
   ]
  },
  {
   "cell_type": "code",
   "execution_count": 78,
   "metadata": {},
   "outputs": [
    {
     "name": "stderr",
     "output_type": "stream",
     "text": [
      "UserWarning: `to_csv` is not currently supported by PandasOnDask, defaulting to pandas implementation.\n"
     ]
    }
   ],
   "source": [
    "folder = '/home/ubuntu/WORK/selfexplain-semantic-topic-modeling/dataset'\n",
    "df.to_csv(folder +'/1_tripadvisor_hotel_review.csv', index = False)"
   ]
  },
  {
   "cell_type": "markdown",
   "metadata": {},
   "source": [
    "### replace_double_punctuation"
   ]
  },
  {
   "cell_type": "code",
   "execution_count": 69,
   "metadata": {},
   "outputs": [
    {
     "name": "stdout",
     "output_type": "stream",
     "text": [
      "Hellooo! How . are you? I'm - -\\. dooing-,. great!\n"
     ]
    }
   ],
   "source": [
    "import re\n",
    "\n",
    "def replace_double_punctuation(input_string):\n",
    "    \"\"\"\n",
    "    Replace consecutive occurrences of double punctuation marks with a single punctuation mark.\n",
    "\n",
    "    Parameters:\n",
    "        input_string (str): The input string to be processed.\n",
    "\n",
    "    Returns:\n",
    "        str: The input string with double punctuation replaced by single punctuation.\n",
    "    \"\"\"\n",
    "    # Define the regular expression pattern to match double punctuation\n",
    "    pattern = r'(\\W|\\W\\s)\\1+'\n",
    "\n",
    "    # Use re.sub() to replace double punctuation with a single punctuation\n",
    "    processed_string = re.sub(pattern, r'\\1', input_string)\n",
    "    \n",
    "#     pattern = r'(\\W\\s\\W)'\n",
    "#     processed_string = re.sub(pattern, r'', processed_string)\n",
    "\n",
    "    return processed_string\n",
    "\n",
    "# Test the function\n",
    "input_string = \"Hellooo!!!! How . . . are you?? I'm - -\\. dooing-,. great!!\"\n",
    "output_string = replace_double_punctuation(input_string)\n",
    "print(output_string)"
   ]
  },
  {
   "cell_type": "code",
   "execution_count": 70,
   "metadata": {
    "scrolled": false
   },
   "outputs": [
    {
     "data": {
      "text/plain": [
       "['Hellooo',\n",
       " '!',\n",
       " 'How',\n",
       " 'are',\n",
       " 'you',\n",
       " '?',\n",
       " 'I',\n",
       " \"'\",\n",
       " 'm',\n",
       " '\\\\.',\n",
       " 'dooing',\n",
       " '-,.',\n",
       " 'great',\n",
       " '!']"
      ]
     },
     "execution_count": 70,
     "metadata": {},
     "output_type": "execute_result"
    }
   ],
   "source": [
    "s = \"Hellooo! How are you? I'm\\. dooing-,. great!\"\n",
    "# nltk.wordpunct_tokenize(s)"
   ]
  },
  {
   "cell_type": "code",
   "execution_count": 71,
   "metadata": {},
   "outputs": [],
   "source": [
    "df['review'] = df['review'].swifter.apply(lambda r: replace_double_punctuation(r))"
   ]
  },
  {
   "cell_type": "markdown",
   "metadata": {
    "id": "q1OmKVocHwBK"
   },
   "source": [
    "### Filter English word and keep some character.\n",
    "Run serveral time to preprocess\n"
   ]
  },
  {
   "cell_type": "code",
   "execution_count": 58,
   "metadata": {
    "colab": {
     "base_uri": "https://localhost:8080/"
    },
    "id": "sYEE7WAdH8BR",
    "outputId": "b06207cb-8cf0-4378-90f1-6b0bdd9f4465"
   },
   "outputs": [
    {
     "data": {
      "text/plain": [
       "['Io', ',', 'to', 'the', '/', 'beach', '?', 'with', 'my', 'a', '.']"
      ]
     },
     "execution_count": 58,
     "metadata": {},
     "output_type": "execute_result"
    }
   ],
   "source": [
    "import nltk\n",
    "import string\n",
    "words = set(nltk.corpus.words.words())\n",
    "# print(string.punctuation)\n",
    "# !\"#$%&'()*+,-./:;<=>?@[\\]^_`{|}~\n",
    "\n",
    "sent = \"Io, andiamo to ../ the/ beach? with my a.\"\n",
    "# sent = str(df.loc[514675]['review'])\n",
    "[w for w in nltk.wordpunct_tokenize(sent) \\\n",
    "         if w.lower() in words or string.punctuation.find(w)>-1]"
   ]
  },
  {
   "cell_type": "code",
   "execution_count": 59,
   "metadata": {
    "id": "nKgRY-rQGhes"
   },
   "outputs": [],
   "source": [
    "def filter_English_words(sent):\n",
    "    return \" \".join(w for w in nltk.wordpunct_tokenize(str(sent)) \\\n",
    "        if w.lower() in words or string.punctuation.find(w)>-1)"
   ]
  },
  {
   "cell_type": "code",
   "execution_count": 61,
   "metadata": {
    "colab": {
     "base_uri": "https://localhost:8080/"
    },
    "id": "3HK29CZ4GrRS",
    "outputId": "952b4733-2a82-4992-d907-5a3a3886cce2"
   },
   "outputs": [],
   "source": [
    "df['review'] = df['review'].swifter.apply(lambda r: filter_English_words(r))"
   ]
  },
  {
   "cell_type": "code",
   "execution_count": 62,
   "metadata": {},
   "outputs": [
    {
     "name": "stdout",
     "output_type": "stream",
     "text": [
      "<class 'modin.pandas.dataframe.DataFrame'>\n",
      "Index: 482649 entries, 223117 to 520412\n",
      "Data columns (total 2 columns):\n",
      " #   Column  Non-Null Count   Dtype \n",
      "---  ------  --------------   ----- \n",
      " 0   hotel   482649 non-null  int64 \n",
      " 1   review  482649 non-null  object\n",
      "dtypes: int64(1), object(1)\n",
      "memory usage: 11.0+ MB\n"
     ]
    }
   ],
   "source": [
    "df = df[df['review'].str.strip().notnull()]\n",
    "df.info()"
   ]
  },
  {
   "cell_type": "code",
   "execution_count": 63,
   "metadata": {
    "colab": {
     "base_uri": "https://localhost:8080/",
     "height": 363
    },
    "id": "98dpiDyJJou7",
    "outputId": "ce268fb6-786c-4fdf-80f4-984eb3ce7608"
   },
   "outputs": [
    {
     "data": {
      "text/plain": [
       "372134    Excellent hotel with hospitable staff I and my...\n",
       "338462    Great service and very central . My wife and I...\n",
       "322749    Premier lounge . It was a great experience Spe...\n",
       "206989    hostel We have been in Brother Inn for nights ...\n",
       "137022    Great Location and Staff . The location of the...\n",
       "424876    Good Location . The hotel is near the boat doc...\n",
       "275316    Modern design hotel . I got days stayed at thi...\n",
       "75933     Great location , very nice hotel Recently stay...\n",
       "141482    Fabulous service - very The staff in this hote...\n",
       "29247     Great Hotel Sunshine hotel is clean and bright...\n",
       "Name: review, dtype: object"
      ]
     },
     "execution_count": 63,
     "metadata": {},
     "output_type": "execute_result"
    }
   ],
   "source": [
    "df['review'].sample(10)"
   ]
  },
  {
   "cell_type": "code",
   "execution_count": 64,
   "metadata": {
    "id": "HtYJ5GYULWt-"
   },
   "outputs": [
    {
     "data": {
      "text/plain": [
       "223117    [THE, place, to, stay, We, stayed, only, night...\n",
       "405402    [Very, good, ., Came, here, with, &, younger, ...\n",
       "405436    [Lovely, ., It, ', s, expensive, but, we, coul...\n",
       "202206    [Amazing, If, you, want, to, have, a, special,...\n",
       "151660    [The, best, way, to, understand, ., Can, t, im...\n",
       "405522    [one, of, my, Top, Five, definitely, a, great,...\n",
       "13705     [Gorgeous, hotel, ., This, is, a, gorgeous, ho...\n",
       "171564    [Definitely, the, of, ., What, a, lovely, hote...\n",
       "13714     [Fantastic, ., Top, notch, hotel, ., Great, se...\n",
       "344976    [Beautiful, ,, historic, *, hotel, in, a, good...\n",
       "Name: review, dtype: object"
      ]
     },
     "execution_count": 64,
     "metadata": {},
     "output_type": "execute_result"
    }
   ],
   "source": [
    "df['review'][:10].str.split()"
   ]
  },
  {
   "cell_type": "code",
   "execution_count": null,
   "metadata": {},
   "outputs": [],
   "source": [
    "# nltk.wordpunct_tokenize(df.loc[533429].review)"
   ]
  },
  {
   "cell_type": "code",
   "execution_count": null,
   "metadata": {},
   "outputs": [],
   "source": [
    "# df.loc[533429].review.split('.')"
   ]
  },
  {
   "cell_type": "markdown",
   "metadata": {},
   "source": [
    "### split_by_multiple_chars\n",
    "\n",
    "using split sentence for SELFEXPLAN in later step"
   ]
  },
  {
   "cell_type": "code",
   "execution_count": null,
   "metadata": {},
   "outputs": [],
   "source": [
    "import re\n",
    "\n",
    "#               !\"#$%&'()*+,-./:;<=>?@[\\]^_`{|}~\n",
    "def split_by_multiple_chars(input_string):\n",
    "    \"\"\"\n",
    "    Split a string by multiple characters: ';', ':', and ','.\n",
    "\n",
    "    Parameters:\n",
    "        input_string (str): The input string to be split.\n",
    "\n",
    "    Returns:\n",
    "        list: A list of substrings after splitting.\n",
    "    \"\"\"\n",
    "    # Define the regular expression pattern with multiple characters as delimiters\n",
    "    pattern = r'[.?!\\s]+'  # This will split by ';', ':', ',', or any whitespace characters.\n",
    "\n",
    "    # Use re.split() to split the string by the defined pattern\n",
    "    substrings = re.split(pattern, input_string)\n",
    "\n",
    "    return substrings\n",
    "\n",
    "# Test the function\n",
    "input_string = \"apple;orange,banana:grape apple?? orange, banana: grape\"\n",
    "output = split_by_multiple_chars(input_string)\n",
    "print(output)\n"
   ]
  },
  {
   "cell_type": "markdown",
   "metadata": {
    "id": "OKG-BKiWHJAR"
   },
   "source": [
    "#### Remove NAME in review\n"
   ]
  },
  {
   "cell_type": "code",
   "execution_count": 65,
   "metadata": {
    "colab": {
     "base_uri": "https://localhost:8080/"
    },
    "id": "6e6S0jWoJ8gW",
    "outputId": "87daaec9-c650-44c9-c404-d3d622d8baea"
   },
   "outputs": [
    {
     "name": "stdout",
     "output_type": "stream",
     "text": [
      "<class 'modin.pandas.series.Series'>\n",
      "Index: 15 entries, 137792 to 471025\n",
      "Series name: review\n",
      "Non-Null Count  Dtype \n",
      "--------------  ----- \n",
      "15 non-null     object\n",
      "dtypes: object(1)\n",
      "memory usage: 240.0+ bytes\n",
      "None\n"
     ]
    },
    {
     "data": {
      "text/plain": [
       "137792            Great place with a good location # NAME ?\n",
       "407212    # NAME Location is VERY GOOD The room I had in...\n",
       "417960    # NAME - Well old building on the river front ...\n",
       "274344    # NAME A better price / quality will be hard t...\n",
       "414403    # NAME Fantastic and lovely hotel . Warm welco...\n",
       "351548                   A good resort with nice . # NAME ?\n",
       "343795         Excellent value and great service . # NAME ?\n",
       "261228               Nice Hotel in a good Location # NAME ?\n",
       "417961    # NAME - great little hotel with exceptional s...\n",
       "206464    # NAME After an hectic bus trip from Ho Chi Mi...\n",
       "489299                              Great location # NAME ?\n",
       "66004     # NAME I took the night bus from and at . The ...\n",
       "148949                                      Nice . # NAME ?\n",
       "329492    # NAME + Location of Hotel Da really convenien...\n",
       "471025                               Wonder stay . # NAME ?\n",
       "Name: review, dtype: object"
      ]
     },
     "execution_count": 65,
     "metadata": {},
     "output_type": "execute_result"
    }
   ],
   "source": [
    "temp_df = df[df['review'].str.contains(\"# NAME ?\")]['review']\n",
    "print(temp_df.info())\n",
    "temp_df"
   ]
  },
  {
   "cell_type": "code",
   "execution_count": 66,
   "metadata": {
    "id": "UdnArSw9HnAZ"
   },
   "outputs": [],
   "source": [
    "# Remove NAME word in review - bad collecting\n",
    "df['review'] = df['review'].apply(lambda r: r.replace(\"# NAME ?\", \"\"))"
   ]
  },
  {
   "cell_type": "markdown",
   "metadata": {
    "id": "moLxA1HqLhyZ"
   },
   "source": [
    "#### Remove nan in review"
   ]
  },
  {
   "cell_type": "code",
   "execution_count": 67,
   "metadata": {
    "colab": {
     "base_uri": "https://localhost:8080/",
     "height": 49
    },
    "id": "tNCgT9LkLkFR",
    "outputId": "80073a70-30b1-42f1-bb03-168ac7193371"
   },
   "outputs": [
    {
     "name": "stderr",
     "output_type": "stream",
     "text": [
      "UserWarning: `DataFrame._repr_html_` for empty DataFrame is not currently supported by PandasOnDask, defaulting to pandas implementation.\n",
      "Please refer to https://modin.readthedocs.io/en/stable/supported_apis/defaulting_to_pandas.html for explanation.\n"
     ]
    },
    {
     "data": {
      "text/html": [
       "<div>\n",
       "<style scoped>\n",
       "    .dataframe tbody tr th:only-of-type {\n",
       "        vertical-align: middle;\n",
       "    }\n",
       "\n",
       "    .dataframe tbody tr th {\n",
       "        vertical-align: top;\n",
       "    }\n",
       "\n",
       "    .dataframe thead th {\n",
       "        text-align: right;\n",
       "    }\n",
       "</style>\n",
       "<table border=\"1\" class=\"dataframe\">\n",
       "  <thead>\n",
       "    <tr style=\"text-align: right;\">\n",
       "      <th></th>\n",
       "      <th>hotel</th>\n",
       "      <th>review</th>\n",
       "    </tr>\n",
       "  </thead>\n",
       "  <tbody>\n",
       "  </tbody>\n",
       "</table>\n",
       "</div>"
      ],
      "text/plain": [
       "Empty DataFrame\n",
       "Columns: [hotel, review]\n",
       "Index: []"
      ]
     },
     "execution_count": 67,
     "metadata": {},
     "output_type": "execute_result"
    }
   ],
   "source": [
    "df[df['review']=='nan']"
   ]
  },
  {
   "cell_type": "code",
   "execution_count": 68,
   "metadata": {
    "colab": {
     "base_uri": "https://localhost:8080/"
    },
    "id": "Wefe0YEULl9K",
    "outputId": "52dfb546-27f6-4478-ef07-e0ee93b0a129"
   },
   "outputs": [
    {
     "name": "stdout",
     "output_type": "stream",
     "text": [
      "<class 'modin.pandas.dataframe.DataFrame'>\n",
      "Index: 482649 entries, 223117 to 520412\n",
      "Data columns (total 2 columns):\n",
      " #   Column  Non-Null Count   Dtype \n",
      "---  ------  --------------   ----- \n",
      " 0   hotel   482649 non-null  int64 \n",
      " 1   review  482649 non-null  object\n",
      "dtypes: int64(1), object(1)\n",
      "memory usage: 11.0+ MB\n"
     ]
    }
   ],
   "source": [
    "df = df[df['review'] != 'nan']\n",
    "df.info()"
   ]
  },
  {
   "cell_type": "markdown",
   "metadata": {
    "id": "Mw8OuIHgHNjM"
   },
   "source": [
    "#### Remove to short text"
   ]
  },
  {
   "cell_type": "code",
   "execution_count": null,
   "metadata": {
    "colab": {
     "base_uri": "https://localhost:8080/",
     "height": 295
    },
    "id": "-I3uSlFVHMy_",
    "outputId": "098220ed-833c-481d-c079-7a18da842433"
   },
   "outputs": [],
   "source": [
    "MIN_REVIEW_LENGTH = 50\n",
    "temp_df = df[df['review'].str.len() < MIN_REVIEW_LENGTH]\n",
    "print(temp_df.info())\n",
    "temp_df.sample(10)"
   ]
  },
  {
   "cell_type": "code",
   "execution_count": null,
   "metadata": {
    "colab": {
     "base_uri": "https://localhost:8080/"
    },
    "id": "hh03FRPDHgB7",
    "outputId": "e33e14d3-2739-4fec-d9d7-90a50ecfc468"
   },
   "outputs": [],
   "source": [
    "# df = df[df['review'].str.len() >= MIN_REVIEW_LENGTH]\n",
    "# df.info()"
   ]
  },
  {
   "cell_type": "code",
   "execution_count": null,
   "metadata": {},
   "outputs": [],
   "source": [
    "df['review'].sample(10)"
   ]
  },
  {
   "cell_type": "markdown",
   "metadata": {
    "id": "Df_r61rVGsQF"
   },
   "source": [
    "## Get label by rating"
   ]
  },
  {
   "cell_type": "code",
   "execution_count": null,
   "metadata": {
    "colab": {
     "base_uri": "https://localhost:8080/"
    },
    "id": "VsFeUi07Mmjo",
    "outputId": "887cfe60-577c-49bd-8b77-142f20c5fca0"
   },
   "outputs": [],
   "source": [
    "df.info()"
   ]
  },
  {
   "cell_type": "code",
   "execution_count": null,
   "metadata": {
    "id": "V7mK9_WSEY1g"
   },
   "outputs": [],
   "source": [
    "def get_label(rate):\n",
    "    return 1 if rate > 3.5 else 0"
   ]
  },
  {
   "cell_type": "code",
   "execution_count": null,
   "metadata": {
    "colab": {
     "base_uri": "https://localhost:8080/",
     "height": 363
    },
    "id": "Np0njamYE0uG",
    "outputId": "3cfb7458-3467-4de1-d3f4-88611588b555"
   },
   "outputs": [],
   "source": [
    "df['label'] = df['hotel_overall_rating'].apply(lambda r: get_label(r))\n",
    "df.sample(10)"
   ]
  },
  {
   "cell_type": "code",
   "execution_count": 109,
   "metadata": {
    "colab": {
     "base_uri": "https://localhost:8080/"
    },
    "id": "_G7OvLZVE-L1",
    "outputId": "70624b0d-6bb9-40fa-faf8-b825a05d3385"
   },
   "outputs": [],
   "source": [
    "# df['label'].value_counts()"
   ]
  },
  {
   "cell_type": "markdown",
   "metadata": {
    "id": "bF11x9kcM8ay"
   },
   "source": [
    "### Get label by textbob"
   ]
  },
  {
   "cell_type": "code",
   "execution_count": null,
   "metadata": {
    "id": "a6t0JkjiFSrX"
   },
   "outputs": [],
   "source": [
    "%%capture\n",
    "!pip install textblob"
   ]
  },
  {
   "cell_type": "code",
   "execution_count": null,
   "metadata": {
    "id": "Ozjf9cExNEuP"
   },
   "outputs": [],
   "source": [
    "from textblob import TextBlob\n"
   ]
  },
  {
   "cell_type": "code",
   "execution_count": null,
   "metadata": {
    "colab": {
     "base_uri": "https://localhost:8080/"
    },
    "id": "gmnaA_-QNHv0",
    "outputId": "a164d529-3728-4336-99fe-d85438911ea9"
   },
   "outputs": [],
   "source": [
    "from textblob import TextBlob\n",
    "\n",
    "def get_sentiment(text):\n",
    "    \"\"\"\n",
    "    Get the sentiment (positive or negative) of the input text.\n",
    "\n",
    "    Parameters:\n",
    "        text (str): The input text.\n",
    "\n",
    "    Returns:\n",
    "        str: The sentiment, either 'positive' or 'negative'.\n",
    "    \"\"\"\n",
    "    # Create a TextBlob object to analyze the sentiment\n",
    "    blob = TextBlob(text)\n",
    "\n",
    "    # Get the sentiment polarity score (-1 to +1)\n",
    "    sentiment_score = blob.sentiment.polarity\n",
    "\n",
    "    # Determine the sentiment based on the polarity score\n",
    "    if sentiment_score >= 0:\n",
    "        return 1 # 'positive'\n",
    "    # elif sentiment_score < 0:\n",
    "    else:\n",
    "        return 0 #'negative'\n",
    "    # else:\n",
    "    #     return 'neutral'\n",
    "\n",
    "# Test the function\n",
    "text1 = \"I love this product. It's fantastic!\"\n",
    "text2 = \"I'm really disappointed with the service.\"\n",
    "\n",
    "print(\"Sentiment for text1:\", get_sentiment(text1))\n",
    "print(\"Sentiment for text2:\", get_sentiment(text2))"
   ]
  },
  {
   "cell_type": "code",
   "execution_count": null,
   "metadata": {
    "colab": {
     "base_uri": "https://localhost:8080/",
     "height": 363
    },
    "id": "tAM0fF2SNIAS",
    "outputId": "2bf40c15-1cfd-42f1-e3ca-d0651bf71919"
   },
   "outputs": [],
   "source": [
    "df['label_textblob'] = df['review'].apply(lambda r: get_sentiment(r))\n",
    "df.sample(10)"
   ]
  },
  {
   "cell_type": "code",
   "execution_count": null,
   "metadata": {
    "colab": {
     "base_uri": "https://localhost:8080/"
    },
    "id": "fM0LyOcTNUH4",
    "outputId": "d163196c-5e98-45b6-e39b-cefa725a0a1a"
   },
   "outputs": [],
   "source": [
    "df['label_textblob'].value_counts()"
   ]
  },
  {
   "cell_type": "code",
   "execution_count": null,
   "metadata": {
    "colab": {
     "base_uri": "https://localhost:8080/",
     "height": 363
    },
    "id": "o83nJp7BNhIG",
    "outputId": "437efd28-7c90-428d-ee80-f372d167b25d"
   },
   "outputs": [],
   "source": [
    "df[df['label_textblob']==0].sample(10)"
   ]
  },
  {
   "cell_type": "markdown",
   "metadata": {
    "id": "EYbKaXF1N7DC"
   },
   "source": [
    "### Get sentiment by Vander"
   ]
  },
  {
   "cell_type": "code",
   "execution_count": 105,
   "metadata": {
    "colab": {
     "base_uri": "https://localhost:8080/"
    },
    "id": "VNYrBwUCN9rs",
    "outputId": "71298b5b-50b6-40fd-8a7b-5c94e0621c9d"
   },
   "outputs": [
    {
     "name": "stdout",
     "output_type": "stream",
     "text": [
      "Sentiment for text1: 1\n",
      "Sentiment for text2: 0\n"
     ]
    },
    {
     "name": "stderr",
     "output_type": "stream",
     "text": [
      "[nltk_data] Downloading package vader_lexicon to\n",
      "[nltk_data]     /home/ubuntu/nltk_data...\n",
      "[nltk_data]   Package vader_lexicon is already up-to-date!\n"
     ]
    }
   ],
   "source": [
    "import nltk\n",
    "from nltk.sentiment.vader import SentimentIntensityAnalyzer\n",
    "\n",
    "nltk.download('vader_lexicon')\n",
    "\n",
    "def get_sentiment_vader(text):\n",
    "    \"\"\"\n",
    "    Get the sentiment (positive, neutral, or negative) of the input text using VADER.\n",
    "\n",
    "    Parameters:\n",
    "        text (str): The input text.\n",
    "\n",
    "    Returns:\n",
    "        str: The sentiment, either 'positive', 'neutral', or 'negative'.\n",
    "    \"\"\"\n",
    "    # Create a SentimentIntensityAnalyzer object\n",
    "    sia = SentimentIntensityAnalyzer()\n",
    "\n",
    "    # Get the polarity scores for the input text\n",
    "    sentiment_scores = sia.polarity_scores(text)\n",
    "\n",
    "    # Determine the sentiment based on the compound score\n",
    "    compound_score = sentiment_scores['compound']\n",
    "    if compound_score >= 0.05:\n",
    "        return 1 #'positive'\n",
    "    # elif compound_score < -0.05:\n",
    "    else:\n",
    "        return 0 # 'negative'\n",
    "    # else:\n",
    "    #     return 'neutral'\n",
    "\n",
    "# Test the function\n",
    "text1 = \"I love this product. It's fantastic!\"\n",
    "text2 = \"I'm really disappointed with the service.\"\n",
    "\n",
    "print(\"Sentiment for text1:\", get_sentiment_vader(text1))\n",
    "print(\"Sentiment for text2:\", get_sentiment_vader(text2))"
   ]
  },
  {
   "cell_type": "code",
   "execution_count": null,
   "metadata": {},
   "outputs": [],
   "source": []
  },
  {
   "cell_type": "code",
   "execution_count": 113,
   "metadata": {
    "colab": {
     "base_uri": "https://localhost:8080/",
     "height": 933
    },
    "id": "pVOgK4BON_NW",
    "outputId": "8a1650b7-7446-497e-da93-a1308a116d5f"
   },
   "outputs": [
    {
     "data": {
      "text/html": [
       "<div>\n",
       "<style scoped>\n",
       "    .dataframe tbody tr th:only-of-type {\n",
       "        vertical-align: middle;\n",
       "    }\n",
       "\n",
       "    .dataframe tbody tr th {\n",
       "        vertical-align: top;\n",
       "    }\n",
       "\n",
       "    .dataframe thead th {\n",
       "        text-align: right;\n",
       "    }\n",
       "</style>\n",
       "<table border=\"1\" class=\"dataframe\">\n",
       "  <thead>\n",
       "    <tr style=\"text-align: right;\">\n",
       "      <th></th>\n",
       "      <th>hotel</th>\n",
       "      <th>sentence</th>\n",
       "      <th>label_vader</th>\n",
       "    </tr>\n",
       "  </thead>\n",
       "  <tbody>\n",
       "    <tr>\n",
       "      <th>7226</th>\n",
       "      <td>306225</td>\n",
       "      <td>If the hotel resume the door person , I ' d li...</td>\n",
       "      <td>1</td>\n",
       "    </tr>\n",
       "    <tr>\n",
       "      <th>48034</th>\n",
       "      <td>15118858</td>\n",
       "      <td>A warm welcome to from the O ' Gallery Majesti...</td>\n",
       "      <td>1</td>\n",
       "    </tr>\n",
       "    <tr>\n",
       "      <th>25408</th>\n",
       "      <td>2340470</td>\n",
       "      <td>The was a stay with and payment , kindly they ...</td>\n",
       "      <td>1</td>\n",
       "    </tr>\n",
       "    <tr>\n",
       "      <th>17663</th>\n",
       "      <td>1090179</td>\n",
       "      <td>We thoroughly our stay .</td>\n",
       "      <td>0</td>\n",
       "    </tr>\n",
       "    <tr>\n",
       "      <th>44368</th>\n",
       "      <td>9786699</td>\n",
       "      <td>Stay with these you wont regret it</td>\n",
       "      <td>1</td>\n",
       "    </tr>\n",
       "    <tr>\n",
       "      <th>12841</th>\n",
       "      <td>623868</td>\n",
       "      <td>The staff are friendly and helpful , especiall...</td>\n",
       "      <td>1</td>\n",
       "    </tr>\n",
       "    <tr>\n",
       "      <th>37887</th>\n",
       "      <td>6533098</td>\n",
       "      <td>The staff - .</td>\n",
       "      <td>0</td>\n",
       "    </tr>\n",
       "    <tr>\n",
       "      <th>33378</th>\n",
       "      <td>4456285</td>\n",
       "      <td>Stayed there recently , it was nice , room mod...</td>\n",
       "      <td>1</td>\n",
       "    </tr>\n",
       "    <tr>\n",
       "      <th>27322</th>\n",
       "      <td>2557683</td>\n",
       "      <td>The were absolutely delicious and to all .</td>\n",
       "      <td>1</td>\n",
       "    </tr>\n",
       "    <tr>\n",
       "      <th>39551</th>\n",
       "      <td>7182682</td>\n",
       "      <td>That ' s when you can walk without the being m...</td>\n",
       "      <td>0</td>\n",
       "    </tr>\n",
       "  </tbody>\n",
       "</table>\n",
       "</div>"
      ],
      "text/plain": [
       "          hotel                                           sentence  \\\n",
       "7226     306225  If the hotel resume the door person , I ' d li...   \n",
       "48034  15118858  A warm welcome to from the O ' Gallery Majesti...   \n",
       "25408   2340470  The was a stay with and payment , kindly they ...   \n",
       "17663   1090179                           We thoroughly our stay .   \n",
       "44368   9786699                 Stay with these you wont regret it   \n",
       "12841    623868  The staff are friendly and helpful , especiall...   \n",
       "37887   6533098                                      The staff - .   \n",
       "33378   4456285  Stayed there recently , it was nice , room mod...   \n",
       "27322   2557683         The were absolutely delicious and to all .   \n",
       "39551   7182682  That ' s when you can walk without the being m...   \n",
       "\n",
       "       label_vader  \n",
       "7226             1  \n",
       "48034            1  \n",
       "25408            1  \n",
       "17663            0  \n",
       "44368            1  \n",
       "12841            1  \n",
       "37887            0  \n",
       "33378            1  \n",
       "27322            1  \n",
       "39551            0  "
      ]
     },
     "execution_count": 113,
     "metadata": {},
     "output_type": "execute_result"
    }
   ],
   "source": [
    "import swifter\n",
    "\n",
    "df['label_vader'] = df['sentence'].swifter.apply(lambda r: get_sentiment_vader(r))\n",
    "df.sample(10)"
   ]
  },
  {
   "cell_type": "code",
   "execution_count": 119,
   "metadata": {
    "colab": {
     "base_uri": "https://localhost:8080/"
    },
    "id": "y74OlDooRXfI",
    "outputId": "79573b82-e9e1-4614-e0d7-82447aa0d82c"
   },
   "outputs": [
    {
     "data": {
      "text/plain": [
       "label_vader\n",
       "1    34035\n",
       "0    14163\n",
       "Name: count, dtype: int64"
      ]
     },
     "execution_count": 119,
     "metadata": {},
     "output_type": "execute_result"
    }
   ],
   "source": [
    "df['label_vader'].value_counts()"
   ]
  },
  {
   "cell_type": "code",
   "execution_count": 115,
   "metadata": {
    "id": "S2M9Cw7FRb8f"
   },
   "outputs": [
    {
     "data": {
      "text/html": [
       "<div>\n",
       "<style scoped>\n",
       "    .dataframe tbody tr th:only-of-type {\n",
       "        vertical-align: middle;\n",
       "    }\n",
       "\n",
       "    .dataframe tbody tr th {\n",
       "        vertical-align: top;\n",
       "    }\n",
       "\n",
       "    .dataframe thead th {\n",
       "        text-align: right;\n",
       "    }\n",
       "</style>\n",
       "<table border=\"1\" class=\"dataframe\">\n",
       "  <thead>\n",
       "    <tr style=\"text-align: right;\">\n",
       "      <th></th>\n",
       "      <th>hotel</th>\n",
       "      <th>sentence</th>\n",
       "      <th>label_vader</th>\n",
       "    </tr>\n",
       "  </thead>\n",
       "  <tbody>\n",
       "    <tr>\n",
       "      <th>42785</th>\n",
       "      <td>8643198</td>\n",
       "      <td>It was within a short walking distance to the ...</td>\n",
       "      <td>0</td>\n",
       "    </tr>\n",
       "    <tr>\n",
       "      <th>26582</th>\n",
       "      <td>2521380</td>\n",
       "      <td>Pool and is a break for the hustle and bustle ...</td>\n",
       "      <td>0</td>\n",
       "    </tr>\n",
       "    <tr>\n",
       "      <th>41215</th>\n",
       "      <td>7856034</td>\n",
       "      <td>You made our visit to and our anniversary even...</td>\n",
       "      <td>0</td>\n",
       "    </tr>\n",
       "    <tr>\n",
       "      <th>3000</th>\n",
       "      <td>302746</td>\n",
       "      <td>Majestic .</td>\n",
       "      <td>0</td>\n",
       "    </tr>\n",
       "    <tr>\n",
       "      <th>26520</th>\n",
       "      <td>2521380</td>\n",
       "      <td>We spent four nights and were .</td>\n",
       "      <td>0</td>\n",
       "    </tr>\n",
       "    <tr>\n",
       "      <th>47886</th>\n",
       "      <td>12645634</td>\n",
       "      <td>This place is incredible .</td>\n",
       "      <td>0</td>\n",
       "    </tr>\n",
       "    <tr>\n",
       "      <th>27703</th>\n",
       "      <td>2557683</td>\n",
       "      <td>The were very clean but we did change because ...</td>\n",
       "      <td>0</td>\n",
       "    </tr>\n",
       "    <tr>\n",
       "      <th>18982</th>\n",
       "      <td>1420780</td>\n",
       "      <td>She went further to help us and our problem .</td>\n",
       "      <td>0</td>\n",
       "    </tr>\n",
       "    <tr>\n",
       "      <th>6274</th>\n",
       "      <td>302847</td>\n",
       "      <td>, We had a luxury room and could see the sea !</td>\n",
       "      <td>0</td>\n",
       "    </tr>\n",
       "    <tr>\n",
       "      <th>12982</th>\n",
       "      <td>623907</td>\n",
       "      <td>You feel a bit removed from real life and the ...</td>\n",
       "      <td>0</td>\n",
       "    </tr>\n",
       "  </tbody>\n",
       "</table>\n",
       "</div>"
      ],
      "text/plain": [
       "          hotel                                           sentence  \\\n",
       "42785   8643198  It was within a short walking distance to the ...   \n",
       "26582   2521380  Pool and is a break for the hustle and bustle ...   \n",
       "41215   7856034  You made our visit to and our anniversary even...   \n",
       "3000     302746                                         Majestic .   \n",
       "26520   2521380                    We spent four nights and were .   \n",
       "47886  12645634                         This place is incredible .   \n",
       "27703   2557683  The were very clean but we did change because ...   \n",
       "18982   1420780      She went further to help us and our problem .   \n",
       "6274     302847     , We had a luxury room and could see the sea !   \n",
       "12982    623907  You feel a bit removed from real life and the ...   \n",
       "\n",
       "       label_vader  \n",
       "42785            0  \n",
       "26582            0  \n",
       "41215            0  \n",
       "3000             0  \n",
       "26520            0  \n",
       "47886            0  \n",
       "27703            0  \n",
       "18982            0  \n",
       "6274             0  \n",
       "12982            0  "
      ]
     },
     "execution_count": 115,
     "metadata": {},
     "output_type": "execute_result"
    }
   ],
   "source": [
    "df[df['label_vader']==0].sample(10)"
   ]
  },
  {
   "cell_type": "code",
   "execution_count": 121,
   "metadata": {},
   "outputs": [
    {
     "name": "stderr",
     "output_type": "stream",
     "text": [
      "UserWarning: `to_csv` is not currently supported by PandasOnDask, defaulting to pandas implementation.\n"
     ]
    }
   ],
   "source": [
    "df.to_csv(folder +'/3_tripadvisor_len_review_227per_hotel_label_vader.csv', index = False)"
   ]
  },
  {
   "cell_type": "markdown",
   "metadata": {},
   "source": [
    "# "
   ]
  },
  {
   "cell_type": "code",
   "execution_count": 120,
   "metadata": {},
   "outputs": [
    {
     "name": "stderr",
     "output_type": "stream",
     "text": [
      "UserWarning: <function Series.tolist> is not currently supported by PandasOnDask, defaulting to pandas implementation.\n",
      "UserWarning: <function Series.tolist> is not currently supported by PandasOnDask, defaulting to pandas implementation.\n",
      "UserWarning: Distributing <class 'dict'> object. This may take some time.\n"
     ]
    },
    {
     "name": "stdout",
     "output_type": "stream",
     "text": [
      "<class 'modin.pandas.dataframe.DataFrame'>\n",
      "RangeIndex: 48198 entries, 0 to 48197\n",
      "Data columns (total 2 columns):\n",
      " #   Column    Non-Null Count  Dtype \n",
      "---  ------    --------------  ----- \n",
      " 0   sentence  48198 non-null  object\n",
      " 1   label     48198 non-null  int64 \n",
      "dtypes: int64(1), object(1)\n",
      "memory usage: 753.2+ KB\n",
      "None\n",
      "<class 'modin.pandas.dataframe.DataFrame'>\n",
      "Index: 38558 entries, 43737 to 18691\n",
      "Data columns (total 2 columns):\n",
      " #   Column    Non-Null Count  Dtype \n",
      "---  ------    --------------  ----- \n",
      " 0   sentence  38558 non-null  object\n",
      " 1   label     38558 non-null  int64 \n",
      "dtypes: int64(1), object(1)\n",
      "memory usage: 903.7+ KB\n",
      "None\n",
      "----\n",
      "\n",
      "<class 'modin.pandas.dataframe.DataFrame'>\n",
      "Index: 9640 entries, 8037 to 31218\n",
      "Data columns (total 2 columns):\n",
      " #   Column    Non-Null Count  Dtype \n",
      "---  ------    --------------  ----- \n",
      " 0   sentence  9640 non-null   object\n",
      " 1   label     9640 non-null   int64 \n",
      "dtypes: int64(1), object(1)\n",
      "memory usage: 225.9+ KB\n",
      "None\n"
     ]
    }
   ],
   "source": [
    "# from sklearn.model_selection import train_test_split\n",
    "\n",
    "# df3 = pd.DataFrame({\n",
    "#     \"sentence\": df['sentence'].tolist(),\n",
    "#     \"label\": df['label_vader'].tolist()\n",
    "# })\n",
    "\n",
    "# print(df3.info())\n",
    "\n",
    "# # Assuming you have your feature data in X and label data in y\n",
    "\n",
    "# # Split the data into training and testing sets, stratifying based on the label y\n",
    "# X_train, X_test, y_train, y_test = train_test_split(df3, df3, test_size=0.2, stratify=df3['label'], random_state=29)\n",
    "\n",
    "# # Now, you have X_train, X_test, y_train, y_test with preserved label distribution.\n",
    "# print(X_train.info())\n",
    "\n",
    "# print(\"----\\n\")\n",
    "\n",
    "# print(y_test.info())"
   ]
  },
  {
   "cell_type": "markdown",
   "metadata": {
    "id": "qidEkol8RelD"
   },
   "source": [
    "# Group by label and hotel"
   ]
  },
  {
   "cell_type": "code",
   "execution_count": null,
   "metadata": {},
   "outputs": [],
   "source": [
    "grouped_count = df.groupby(['hotel', 'label_vader']).size().reset_index(name='Count')\n",
    "grouped_count.sort_values(by=['Count'], ascending=[True])"
   ]
  },
  {
   "cell_type": "code",
   "execution_count": null,
   "metadata": {},
   "outputs": [],
   "source": [
    "df2 = grouped_count\n",
    "df2[df2['label_vader']==1]"
   ]
  },
  {
   "cell_type": "markdown",
   "metadata": {},
   "source": [
    "# Select some records/Rows"
   ]
  },
  {
   "cell_type": "code",
   "execution_count": null,
   "metadata": {},
   "outputs": [],
   "source": [
    "negative_idx = df[df['label_vader']==0].index\n",
    "negative_idx"
   ]
  },
  {
   "cell_type": "code",
   "execution_count": null,
   "metadata": {},
   "outputs": [],
   "source": [
    "df.loc[negative_idx]"
   ]
  },
  {
   "cell_type": "code",
   "execution_count": null,
   "metadata": {},
   "outputs": [],
   "source": [
    "# positive\n",
    "df1 = df[df['hotel'].isin(df.loc[negative_idx]['hotel'].tolist())].sample(32000, random_state=29)"
   ]
  },
  {
   "cell_type": "code",
   "execution_count": null,
   "metadata": {},
   "outputs": [],
   "source": [
    "# negative\n",
    "df2 = df.loc[negative_idx]"
   ]
  },
  {
   "cell_type": "code",
   "execution_count": null,
   "metadata": {},
   "outputs": [],
   "source": [
    "df3 = pd.concat([df1,df2], ignore_index = True)\n",
    "df3.info()"
   ]
  },
  {
   "cell_type": "code",
   "execution_count": null,
   "metadata": {},
   "outputs": [],
   "source": [
    "df3"
   ]
  },
  {
   "cell_type": "code",
   "execution_count": null,
   "metadata": {},
   "outputs": [],
   "source": [
    "df3['label_vader'].value_counts()"
   ]
  },
  {
   "cell_type": "code",
   "execution_count": null,
   "metadata": {},
   "outputs": [],
   "source": [
    "df3.to_csv(\"/home/ubuntu/WORK/selfexplain-semantic-topic-modeling/SelfExplain/data/RoBERTa-Tripadvisor\"\n",
    "           + '/2_tripadvisor_labels_sub.csv', index=False)"
   ]
  },
  {
   "cell_type": "markdown",
   "metadata": {
    "id": "W6TA9ZxFSuW5"
   },
   "source": [
    "#### Check different value"
   ]
  },
  {
   "cell_type": "markdown",
   "metadata": {
    "id": "ixGjtKzydUol"
   },
   "source": [
    "## Sort by hotel_id"
   ]
  },
  {
   "cell_type": "code",
   "execution_count": null,
   "metadata": {
    "id": "bDY3ccoLTpmV"
   },
   "outputs": [],
   "source": [
    "df = df.sort_values(by=['hotel'], ascending=[True])"
   ]
  },
  {
   "cell_type": "code",
   "execution_count": null,
   "metadata": {},
   "outputs": [],
   "source": [
    "df.head()"
   ]
  },
  {
   "cell_type": "code",
   "execution_count": null,
   "metadata": {},
   "outputs": [],
   "source": [
    "df.info()"
   ]
  },
  {
   "cell_type": "markdown",
   "metadata": {
    "id": "yQDGbc80ULQA"
   },
   "source": [
    "## Create dataset for SELFEXPLAIN"
   ]
  },
  {
   "cell_type": "code",
   "execution_count": null,
   "metadata": {},
   "outputs": [],
   "source": [
    "# Save processed dataset\n",
    "folder = \"/home/ubuntu/WORK/selfexplain-semantic-topic-modeling/dataset\"\n",
    "df.to_csv(folder + '/2_tripadvisor_labels.csv', index=False)"
   ]
  },
  {
   "cell_type": "code",
   "execution_count": null,
   "metadata": {
    "id": "2RTusJEYW0HS"
   },
   "outputs": [],
   "source": [
    "folder = \"/home/ubuntu/WORK/selfexplain-semantic-topic-modeling/SelfExplain/data/RoBERTa-Tripadvisor/\""
   ]
  },
  {
   "cell_type": "code",
   "execution_count": null,
   "metadata": {},
   "outputs": [],
   "source": [
    "sub_df = df3\n",
    "# sub_df = df"
   ]
  },
  {
   "cell_type": "code",
   "execution_count": null,
   "metadata": {
    "id": "ZHkRBkZ9UPcM"
   },
   "outputs": [],
   "source": [
    "pd.DataFrame({\n",
    "    \"sentence\": sub_df['review'].tolist(),\n",
    "    \"label\": sub_df['label_textblob'].tolist()\n",
    "}).to_csv(folder + 'dataset_textblob.tsv', sep='\\t', index=False)"
   ]
  },
  {
   "cell_type": "code",
   "execution_count": null,
   "metadata": {
    "id": "o1EL7LPjWmHD"
   },
   "outputs": [],
   "source": [
    "pd.DataFrame({\n",
    "    \"sentence\": sub_df['review'].tolist(),\n",
    "    \"label\": sub_df['label_vader'].tolist()\n",
    "}).to_csv(folder + 'dataset_vander.tsv', sep='\\t', index=False)"
   ]
  },
  {
   "cell_type": "code",
   "execution_count": null,
   "metadata": {
    "id": "XE8NCLPQWrIG"
   },
   "outputs": [],
   "source": []
  }
 ],
 "metadata": {
  "colab": {
   "collapsed_sections": [
    "moLxA1HqLhyZ"
   ],
   "provenance": []
  },
  "kernelspec": {
   "display_name": "bertopic",
   "language": "python",
   "name": "bertopic"
  },
  "language_info": {
   "codemirror_mode": {
    "name": "ipython",
    "version": 3
   },
   "file_extension": ".py",
   "mimetype": "text/x-python",
   "name": "python",
   "nbconvert_exporter": "python",
   "pygments_lexer": "ipython3",
   "version": "3.10.12"
  }
 },
 "nbformat": 4,
 "nbformat_minor": 1
}

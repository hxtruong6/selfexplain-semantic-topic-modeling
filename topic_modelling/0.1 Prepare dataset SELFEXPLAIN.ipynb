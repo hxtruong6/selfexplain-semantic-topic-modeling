{
 "cells": [
  {
   "cell_type": "markdown",
   "id": "c6878827",
   "metadata": {},
   "source": [
    "# Read data then split by sentences"
   ]
  },
  {
   "cell_type": "code",
   "execution_count": 1,
   "id": "355f7306",
   "metadata": {},
   "outputs": [],
   "source": [
    "import tqdm as notebook_tqdm\n",
    "import modin.pandas as pd\n",
    "\n",
    "#############################################\n",
    "### For the purpose of timing comparisons ###\n",
    "#############################################\n",
    "import time\n",
    "import modin\n",
    "modin.config.Engine.put(\"Dask\")\n",
    "\n",
    "from distributed import Client\n",
    "client = Client()"
   ]
  },
  {
   "cell_type": "code",
   "execution_count": null,
   "id": "c196f1ff",
   "metadata": {},
   "outputs": [],
   "source": []
  },
  {
   "cell_type": "code",
   "execution_count": null,
   "id": "8da16025",
   "metadata": {},
   "outputs": [],
   "source": []
  },
  {
   "cell_type": "code",
   "execution_count": null,
   "id": "1a2c452d",
   "metadata": {},
   "outputs": [],
   "source": []
  },
  {
   "cell_type": "code",
   "execution_count": 2,
   "id": "91502955",
   "metadata": {},
   "outputs": [],
   "source": [
    "dataset_path = \"/home/ubuntu/WORK/selfexplain-semantic-topic-modeling/dataset/\" \\\n",
    "    + \"3_tripadvisor_len_review_227per_hotel_label_vader.csv\""
   ]
  },
  {
   "cell_type": "code",
   "execution_count": null,
   "id": "3e06fcfa",
   "metadata": {},
   "outputs": [],
   "source": []
  },
  {
   "cell_type": "code",
   "execution_count": 3,
   "id": "b156ab15",
   "metadata": {},
   "outputs": [
    {
     "name": "stdout",
     "output_type": "stream",
     "text": [
      "<class 'modin.pandas.dataframe.DataFrame'>\n",
      "RangeIndex: 48198 entries, 0 to 48197\n",
      "Data columns (total 3 columns):\n",
      " #   Column       Non-Null Count  Dtype \n",
      "---  ------       --------------  ----- \n",
      " 0   hotel        48198 non-null  int64 \n",
      " 1   sentence     48198 non-null  object\n",
      " 2   label_vader  48198 non-null  int64 \n",
      "dtypes: int64(2), object(1)\n",
      "memory usage: 1.1+ MB\n"
     ]
    }
   ],
   "source": [
    "df = pd.read_csv(dataset_path)\n",
    "df.info()"
   ]
  },
  {
   "cell_type": "code",
   "execution_count": 10,
   "id": "4d0f3f4f",
   "metadata": {},
   "outputs": [],
   "source": [
    "df['label'] = df['label_vader']"
   ]
  },
  {
   "cell_type": "code",
   "execution_count": 11,
   "id": "8d4c6df3",
   "metadata": {},
   "outputs": [
    {
     "data": {
      "text/plain": [
       "label\n",
       "1    34035\n",
       "0    14163\n",
       "Name: count, dtype: int64"
      ]
     },
     "execution_count": 11,
     "metadata": {},
     "output_type": "execute_result"
    }
   ],
   "source": [
    "df['label'].value_counts()"
   ]
  },
  {
   "cell_type": "code",
   "execution_count": 12,
   "id": "24474956",
   "metadata": {},
   "outputs": [],
   "source": [
    "def get_len(r):\n",
    "    return len(str(r).split())"
   ]
  },
  {
   "cell_type": "code",
   "execution_count": 13,
   "id": "34487f56",
   "metadata": {},
   "outputs": [
    {
     "data": {
      "text/plain": [
       "count    48198.000000\n",
       "mean        14.995560\n",
       "std         12.850073\n",
       "min          1.000000\n",
       "25%          7.000000\n",
       "50%         12.000000\n",
       "75%         19.000000\n",
       "max        231.000000\n",
       "Name: num_words, dtype: float64"
      ]
     },
     "execution_count": 13,
     "metadata": {},
     "output_type": "execute_result"
    }
   ],
   "source": [
    "# number of word in range 10 - 250 ---> Check the end of notebook\n",
    "df['num_words'] = df['sentence'].apply(lambda r: get_len(r))\n",
    "df['num_words'].describe()"
   ]
  },
  {
   "cell_type": "code",
   "execution_count": 21,
   "id": "dbf75e64",
   "metadata": {},
   "outputs": [
    {
     "name": "stderr",
     "output_type": "stream",
     "text": [
      "2023-07-22 20:06:36,511 - distributed.worker - ERROR - Exception during execution of task lambda-2b3fd856763cd29078b9a47237747972.\n",
      "Traceback (most recent call last):\n",
      "  File \"/home/ubuntu/miniconda/envs/bertopic/lib/python3.10/site-packages/zict/buffer.py\", line 184, in __getitem__\n",
      "    return self.fast[key]\n",
      "  File \"/home/ubuntu/miniconda/envs/bertopic/lib/python3.10/site-packages/zict/common.py\", line 127, in wrapper\n",
      "    return func(*args, **kwargs)\n",
      "  File \"/home/ubuntu/miniconda/envs/bertopic/lib/python3.10/site-packages/zict/lru.py\", line 117, in __getitem__\n",
      "    result = self.d[key]\n",
      "KeyError: 'apply_list_of_funcs-82af13e3-a6cb-4b66-bf76-a7f6781d7b79'\n",
      "\n",
      "During handling of the above exception, another exception occurred:\n",
      "\n",
      "Traceback (most recent call last):\n",
      "  File \"/home/ubuntu/miniconda/envs/bertopic/lib/python3.10/site-packages/distributed/worker.py\", line 2382, in _prepare_args_for_execution\n",
      "    data[k] = self.data[k]\n",
      "  File \"/home/ubuntu/miniconda/envs/bertopic/lib/python3.10/site-packages/distributed/spill.py\", line 226, in __getitem__\n",
      "    return super().__getitem__(key)\n",
      "  File \"/home/ubuntu/miniconda/envs/bertopic/lib/python3.10/site-packages/zict/common.py\", line 127, in wrapper\n",
      "    return func(*args, **kwargs)\n",
      "  File \"/home/ubuntu/miniconda/envs/bertopic/lib/python3.10/site-packages/zict/buffer.py\", line 186, in __getitem__\n",
      "    return self.slow_to_fast(key)\n",
      "  File \"/home/ubuntu/miniconda/envs/bertopic/lib/python3.10/site-packages/zict/buffer.py\", line 153, in slow_to_fast\n",
      "    value = self.slow[key]\n",
      "  File \"/home/ubuntu/miniconda/envs/bertopic/lib/python3.10/site-packages/zict/common.py\", line 127, in wrapper\n",
      "    return func(*args, **kwargs)\n",
      "  File \"/home/ubuntu/miniconda/envs/bertopic/lib/python3.10/site-packages/zict/cache.py\", line 67, in __getitem__\n",
      "    gen = self._last_updated[key]\n",
      "KeyError: 'apply_list_of_funcs-82af13e3-a6cb-4b66-bf76-a7f6781d7b79'\n",
      "\n",
      "During handling of the above exception, another exception occurred:\n",
      "\n",
      "Traceback (most recent call last):\n",
      "  File \"/home/ubuntu/miniconda/envs/bertopic/lib/python3.10/site-packages/distributed/worker.py\", line 2259, in execute\n",
      "    args2, kwargs2 = self._prepare_args_for_execution(ts, args, kwargs)\n",
      "  File \"/home/ubuntu/miniconda/envs/bertopic/lib/python3.10/site-packages/distributed/worker.py\", line 2386, in _prepare_args_for_execution\n",
      "    data[k] = Actor(type(self.state.actors[k]), self.address, k, self)\n",
      "KeyError: 'apply_list_of_funcs-82af13e3-a6cb-4b66-bf76-a7f6781d7b79'\n"
     ]
    },
    {
     "data": {
      "image/png": "[encoded data removed]",
      "text/plain": [
       "<Figure size 800x600 with 1 Axes>"
      ]
     },
     "metadata": {},
     "output_type": "display_data"
    }
   ],
   "source": [
    "# Plot a histogram of the column data to visualize the distribution\n",
    "plt.figure(figsize=(8, 6))\n",
    "plt.hist(df['num_words'], bins=20)\n",
    "plt.title(f'Histogram of num_words')\n",
    "plt.xlabel('Values')\n",
    "plt.ylabel('Frequency')\n",
    "plt.show()"
   ]
  },
  {
   "cell_type": "code",
   "execution_count": 22,
   "id": "512c0d8f",
   "metadata": {},
   "outputs": [
    {
     "data": {
      "text/html": [
       "<div>\n",
       "<style scoped>\n",
       "    .dataframe tbody tr th:only-of-type {\n",
       "        vertical-align: middle;\n",
       "    }\n",
       "\n",
       "    .dataframe tbody tr th {\n",
       "        vertical-align: top;\n",
       "    }\n",
       "\n",
       "    .dataframe thead th {\n",
       "        text-align: right;\n",
       "    }\n",
       "</style>\n",
       "<table border=\"1\" class=\"dataframe\">\n",
       "  <thead>\n",
       "    <tr style=\"text-align: right;\">\n",
       "      <th></th>\n",
       "      <th>hotel</th>\n",
       "      <th>label_vader</th>\n",
       "      <th>label</th>\n",
       "      <th>num_words</th>\n",
       "    </tr>\n",
       "  </thead>\n",
       "  <tbody>\n",
       "    <tr>\n",
       "      <th>count</th>\n",
       "      <td>4.765700e+04</td>\n",
       "      <td>47657.000000</td>\n",
       "      <td>47657.000000</td>\n",
       "      <td>47657.000000</td>\n",
       "    </tr>\n",
       "    <tr>\n",
       "      <th>mean</th>\n",
       "      <td>3.509196e+06</td>\n",
       "      <td>0.708626</td>\n",
       "      <td>0.708626</td>\n",
       "      <td>14.579306</td>\n",
       "    </tr>\n",
       "    <tr>\n",
       "      <th>std</th>\n",
       "      <td>3.550998e+06</td>\n",
       "      <td>0.454400</td>\n",
       "      <td>0.454400</td>\n",
       "      <td>10.914076</td>\n",
       "    </tr>\n",
       "    <tr>\n",
       "      <th>min</th>\n",
       "      <td>2.995860e+05</td>\n",
       "      <td>0.000000</td>\n",
       "      <td>0.000000</td>\n",
       "      <td>2.000000</td>\n",
       "    </tr>\n",
       "    <tr>\n",
       "      <th>25%</th>\n",
       "      <td>6.128060e+05</td>\n",
       "      <td>0.000000</td>\n",
       "      <td>0.000000</td>\n",
       "      <td>7.000000</td>\n",
       "    </tr>\n",
       "    <tr>\n",
       "      <th>50%</th>\n",
       "      <td>2.316221e+06</td>\n",
       "      <td>1.000000</td>\n",
       "      <td>1.000000</td>\n",
       "      <td>12.000000</td>\n",
       "    </tr>\n",
       "    <tr>\n",
       "      <th>75%</th>\n",
       "      <td>5.508253e+06</td>\n",
       "      <td>1.000000</td>\n",
       "      <td>1.000000</td>\n",
       "      <td>19.000000</td>\n",
       "    </tr>\n",
       "    <tr>\n",
       "      <th>max</th>\n",
       "      <td>1.511886e+07</td>\n",
       "      <td>1.000000</td>\n",
       "      <td>1.000000</td>\n",
       "      <td>74.000000</td>\n",
       "    </tr>\n",
       "  </tbody>\n",
       "</table>\n",
       "</div>"
      ],
      "text/plain": [
       "              hotel   label_vader         label     num_words\n",
       "count  4.765700e+04  47657.000000  47657.000000  47657.000000\n",
       "mean   3.509196e+06      0.708626      0.708626     14.579306\n",
       "std    3.550998e+06      0.454400      0.454400     10.914076\n",
       "min    2.995860e+05      0.000000      0.000000      2.000000\n",
       "25%    6.128060e+05      0.000000      0.000000      7.000000\n",
       "50%    2.316221e+06      1.000000      1.000000     12.000000\n",
       "75%    5.508253e+06      1.000000      1.000000     19.000000\n",
       "max    1.511886e+07      1.000000      1.000000     74.000000"
      ]
     },
     "execution_count": 22,
     "metadata": {},
     "output_type": "execute_result"
    }
   ],
   "source": [
    "df[(df['num_words']>1) & (df['num_words'] < 75)].describe()"
   ]
  },
  {
   "cell_type": "code",
   "execution_count": 23,
   "id": "b819d28e",
   "metadata": {},
   "outputs": [
    {
     "name": "stdout",
     "output_type": "stream",
     "text": [
      "<class 'modin.pandas.dataframe.DataFrame'>\n",
      "Index: 47657 entries, 0 to 48197\n",
      "Data columns (total 5 columns):\n",
      " #   Column       Non-Null Count  Dtype \n",
      "---  ------       --------------  ----- \n",
      " 0   hotel        47657 non-null  int64 \n",
      " 1   sentence     47657 non-null  object\n",
      " 2   label_vader  47657 non-null  int64 \n",
      " 3   label        47657 non-null  int64 \n",
      " 4   num_words    47657 non-null  int64 \n",
      "dtypes: int64(4), object(1)\n",
      "memory usage: 2.2+ MB\n"
     ]
    }
   ],
   "source": [
    "df = df[(df['num_words']>1) & (df['num_words'] < 75)]\n",
    "df.info()"
   ]
  },
  {
   "cell_type": "code",
   "execution_count": 24,
   "id": "a7e16064",
   "metadata": {},
   "outputs": [
    {
     "name": "stdout",
     "output_type": "stream",
     "text": [
      "<class 'modin.pandas.dataframe.DataFrame'>\n",
      "Index: 33771 entries, 6 to 48197\n",
      "Data columns (total 5 columns):\n",
      " #   Column       Non-Null Count  Dtype \n",
      "---  ------       --------------  ----- \n",
      " 0   hotel        33771 non-null  int64 \n",
      " 1   sentence     33771 non-null  object\n",
      " 2   label_vader  33771 non-null  int64 \n",
      " 3   label        33771 non-null  int64 \n",
      " 4   num_words    33771 non-null  int64 \n",
      "dtypes: int64(4), object(1)\n",
      "memory usage: 1.5+ MB\n"
     ]
    }
   ],
   "source": [
    "df1 = df[df['label']==1]\n",
    "df1.info()"
   ]
  },
  {
   "cell_type": "code",
   "execution_count": 25,
   "id": "9dc40fb2",
   "metadata": {},
   "outputs": [
    {
     "data": {
      "text/html": [
       "<div>\n",
       "<style scoped>\n",
       "    .dataframe tbody tr th:only-of-type {\n",
       "        vertical-align: middle;\n",
       "    }\n",
       "\n",
       "    .dataframe tbody tr th {\n",
       "        vertical-align: top;\n",
       "    }\n",
       "\n",
       "    .dataframe thead th {\n",
       "        text-align: right;\n",
       "    }\n",
       "</style>\n",
       "<table border=\"1\" class=\"dataframe\">\n",
       "  <thead>\n",
       "    <tr style=\"text-align: right;\">\n",
       "      <th></th>\n",
       "      <th>hotel</th>\n",
       "      <th>sentence</th>\n",
       "      <th>label_vader</th>\n",
       "      <th>label</th>\n",
       "      <th>num_words</th>\n",
       "    </tr>\n",
       "  </thead>\n",
       "  <tbody>\n",
       "    <tr>\n",
       "      <th>36294</th>\n",
       "      <td>5508253</td>\n",
       "      <td>The pool is very good , although cold at this ...</td>\n",
       "      <td>1</td>\n",
       "      <td>1</td>\n",
       "      <td>14</td>\n",
       "    </tr>\n",
       "    <tr>\n",
       "      <th>4849</th>\n",
       "      <td>302836</td>\n",
       "      <td>The true value of the hotel for our family was...</td>\n",
       "      <td>1</td>\n",
       "      <td>1</td>\n",
       "      <td>19</td>\n",
       "    </tr>\n",
       "    <tr>\n",
       "      <th>25786</th>\n",
       "      <td>2350513</td>\n",
       "      <td>Also , laundry service is amazing !</td>\n",
       "      <td>1</td>\n",
       "      <td>1</td>\n",
       "      <td>7</td>\n",
       "    </tr>\n",
       "    <tr>\n",
       "      <th>32946</th>\n",
       "      <td>4456285</td>\n",
       "      <td>Firstly the location is excellent , with the B...</td>\n",
       "      <td>1</td>\n",
       "      <td>1</td>\n",
       "      <td>63</td>\n",
       "    </tr>\n",
       "    <tr>\n",
       "      <th>8215</th>\n",
       "      <td>451099</td>\n",
       "      <td>The dining room and bar staff were lovely , as...</td>\n",
       "      <td>1</td>\n",
       "      <td>1</td>\n",
       "      <td>18</td>\n",
       "    </tr>\n",
       "    <tr>\n",
       "      <th>46481</th>\n",
       "      <td>12213991</td>\n",
       "      <td>The room is spacious and clean .</td>\n",
       "      <td>1</td>\n",
       "      <td>1</td>\n",
       "      <td>7</td>\n",
       "    </tr>\n",
       "    <tr>\n",
       "      <th>36</th>\n",
       "      <td>299586</td>\n",
       "      <td>The staff were lovely and the complimentary ba...</td>\n",
       "      <td>1</td>\n",
       "      <td>1</td>\n",
       "      <td>11</td>\n",
       "    </tr>\n",
       "    <tr>\n",
       "      <th>30983</th>\n",
       "      <td>3591310</td>\n",
       "      <td>The Team of , and Kan have proved that I chose...</td>\n",
       "      <td>1</td>\n",
       "      <td>1</td>\n",
       "      <td>14</td>\n",
       "    </tr>\n",
       "    <tr>\n",
       "      <th>40320</th>\n",
       "      <td>7369358</td>\n",
       "      <td>Buffet breakfast excellent and in room all in ...</td>\n",
       "      <td>1</td>\n",
       "      <td>1</td>\n",
       "      <td>22</td>\n",
       "    </tr>\n",
       "    <tr>\n",
       "      <th>2599</th>\n",
       "      <td>302627</td>\n",
       "      <td>Good price great Me and my husband had a great...</td>\n",
       "      <td>1</td>\n",
       "      <td>1</td>\n",
       "      <td>14</td>\n",
       "    </tr>\n",
       "  </tbody>\n",
       "</table>\n",
       "</div>"
      ],
      "text/plain": [
       "          hotel                                           sentence  \\\n",
       "36294   5508253  The pool is very good , although cold at this ...   \n",
       "4849     302836  The true value of the hotel for our family was...   \n",
       "25786   2350513                Also , laundry service is amazing !   \n",
       "32946   4456285  Firstly the location is excellent , with the B...   \n",
       "8215     451099  The dining room and bar staff were lovely , as...   \n",
       "46481  12213991                   The room is spacious and clean .   \n",
       "36       299586  The staff were lovely and the complimentary ba...   \n",
       "30983   3591310  The Team of , and Kan have proved that I chose...   \n",
       "40320   7369358  Buffet breakfast excellent and in room all in ...   \n",
       "2599     302627  Good price great Me and my husband had a great...   \n",
       "\n",
       "       label_vader  label  num_words  \n",
       "36294            1      1         14  \n",
       "4849             1      1         19  \n",
       "25786            1      1          7  \n",
       "32946            1      1         63  \n",
       "8215             1      1         18  \n",
       "46481            1      1          7  \n",
       "36               1      1         11  \n",
       "30983            1      1         14  \n",
       "40320            1      1         22  \n",
       "2599             1      1         14  "
      ]
     },
     "execution_count": 25,
     "metadata": {},
     "output_type": "execute_result"
    }
   ],
   "source": [
    "df1 = df1[:80000]\n",
    "df1.sample(10)"
   ]
  },
  {
   "cell_type": "code",
   "execution_count": 26,
   "id": "17dec547",
   "metadata": {},
   "outputs": [
    {
     "name": "stdout",
     "output_type": "stream",
     "text": [
      "<class 'modin.pandas.dataframe.DataFrame'>\n",
      "Index: 13886 entries, 0 to 48191\n",
      "Data columns (total 5 columns):\n",
      " #   Column       Non-Null Count  Dtype \n",
      "---  ------       --------------  ----- \n",
      " 0   hotel        13886 non-null  int64 \n",
      " 1   sentence     13886 non-null  object\n",
      " 2   label_vader  13886 non-null  int64 \n",
      " 3   label        13886 non-null  int64 \n",
      " 4   num_words    13886 non-null  int64 \n",
      "dtypes: int64(4), object(1)\n",
      "memory usage: 650.9+ KB\n"
     ]
    }
   ],
   "source": [
    "df2 = df[df['label']==0]\n",
    "df2.info()"
   ]
  },
  {
   "cell_type": "code",
   "execution_count": null,
   "id": "fa29ccbe",
   "metadata": {},
   "outputs": [],
   "source": [
    "# from sklearn.model_selection import train_test_split\n",
    "\n",
    "\n",
    "# # Split the dataset into a training set (80%) and a test set (20%)\n",
    "# X_train, X_test, y_train, y_test = train_test_split(df, df, test_size=0.2, random_state=42)\n",
    "\n",
    "# X_train.info()\n"
   ]
  },
  {
   "cell_type": "code",
   "execution_count": null,
   "id": "cd16fb21",
   "metadata": {},
   "outputs": [],
   "source": [
    "# y_train.info()"
   ]
  },
  {
   "cell_type": "code",
   "execution_count": null,
   "id": "031fc844",
   "metadata": {},
   "outputs": [],
   "source": [
    "# folder = \"/home/ubuntu/WORK/selfexplain-semantic-topic-modeling/SelfExplain/data/RoBERTa-Tripadvisor/\"\n",
    "# X_train.to_csv(folder + 'train.tsv', sep='\\t', index=False)\n",
    "# y_train.to_csv(folder + 'test.tsv', sep='\\t', index=False)"
   ]
  },
  {
   "cell_type": "markdown",
   "id": "bbc4fb4e",
   "metadata": {},
   "source": [
    "# Split with Stratify for preserving the label distribution"
   ]
  },
  {
   "cell_type": "code",
   "execution_count": null,
   "id": "ac8566c3",
   "metadata": {},
   "outputs": [],
   "source": []
  },
  {
   "cell_type": "code",
   "execution_count": 40,
   "id": "792bf722",
   "metadata": {},
   "outputs": [
    {
     "name": "stdout",
     "output_type": "stream",
     "text": [
      "<class 'pandas.core.frame.DataFrame'>\n",
      "Index: 47657 entries, 0 to 13885\n",
      "Data columns (total 5 columns):\n",
      " #   Column  Non-Null Count  Dtype \n",
      "---  ------  --------------  ----- \n",
      " 0   0       47657 non-null  object\n",
      " 1   1       47657 non-null  object\n",
      " 2   2       47657 non-null  object\n",
      " 3   3       47657 non-null  object\n",
      " 4   4       47657 non-null  object\n",
      "dtypes: object(5)\n",
      "memory usage: 2.2+ MB\n",
      "None\n"
     ]
    },
    {
     "data": {
      "text/html": [
       "<div>\n",
       "<style scoped>\n",
       "    .dataframe tbody tr th:only-of-type {\n",
       "        vertical-align: middle;\n",
       "    }\n",
       "\n",
       "    .dataframe tbody tr th {\n",
       "        vertical-align: top;\n",
       "    }\n",
       "\n",
       "    .dataframe thead th {\n",
       "        text-align: right;\n",
       "    }\n",
       "</style>\n",
       "<table border=\"1\" class=\"dataframe\">\n",
       "  <thead>\n",
       "    <tr style=\"text-align: right;\">\n",
       "      <th></th>\n",
       "      <th>0</th>\n",
       "      <th>1</th>\n",
       "      <th>2</th>\n",
       "      <th>3</th>\n",
       "      <th>4</th>\n",
       "    </tr>\n",
       "  </thead>\n",
       "  <tbody>\n",
       "    <tr>\n",
       "      <th>0</th>\n",
       "      <td>299586</td>\n",
       "      <td>Lovely lake after change of .</td>\n",
       "      <td>1</td>\n",
       "      <td>1</td>\n",
       "      <td>6</td>\n",
       "    </tr>\n",
       "    <tr>\n",
       "      <th>1</th>\n",
       "      <td>299586</td>\n",
       "      <td>( That ' s how it ' s written Our accommodatio...</td>\n",
       "      <td>1</td>\n",
       "      <td>1</td>\n",
       "      <td>14</td>\n",
       "    </tr>\n",
       "    <tr>\n",
       "      <th>2</th>\n",
       "      <td>299586</td>\n",
       "      <td>Staff are amazing and the wonderful .</td>\n",
       "      <td>1</td>\n",
       "      <td>1</td>\n",
       "      <td>7</td>\n",
       "    </tr>\n",
       "    <tr>\n",
       "      <th>3</th>\n",
       "      <td>299586</td>\n",
       "      <td>We selected the executive lounge option on our...</td>\n",
       "      <td>1</td>\n",
       "      <td>1</td>\n",
       "      <td>18</td>\n",
       "    </tr>\n",
       "    <tr>\n",
       "      <th>4</th>\n",
       "      <td>299586</td>\n",
       "      <td>One of the of the lounge is that you get the o...</td>\n",
       "      <td>1</td>\n",
       "      <td>1</td>\n",
       "      <td>29</td>\n",
       "    </tr>\n",
       "  </tbody>\n",
       "</table>\n",
       "</div>"
      ],
      "text/plain": [
       "        0                                                  1  2  3   4\n",
       "0  299586                      Lovely lake after change of .  1  1   6\n",
       "1  299586  ( That ' s how it ' s written Our accommodatio...  1  1  14\n",
       "2  299586              Staff are amazing and the wonderful .  1  1   7\n",
       "3  299586  We selected the executive lounge option on our...  1  1  18\n",
       "4  299586  One of the of the lounge is that you get the o...  1  1  29"
      ]
     },
     "execution_count": 40,
     "metadata": {},
     "output_type": "execute_result"
    }
   ],
   "source": [
    "import pandas as pd1\n",
    "df3 = pd.concat([pd1.DataFrame(df1), pd1.DataFrame(df2)])\n",
    "# df3=df3[[\"sentence\",\"label\"]]\n",
    "print(df3.info())\n",
    "df3.head()"
   ]
  },
  {
   "cell_type": "code",
   "execution_count": 41,
   "id": "9e3752f3",
   "metadata": {},
   "outputs": [
    {
     "data": {
      "text/html": [
       "<div>\n",
       "<style scoped>\n",
       "    .dataframe tbody tr th:only-of-type {\n",
       "        vertical-align: middle;\n",
       "    }\n",
       "\n",
       "    .dataframe tbody tr th {\n",
       "        vertical-align: top;\n",
       "    }\n",
       "\n",
       "    .dataframe thead th {\n",
       "        text-align: right;\n",
       "    }\n",
       "</style>\n",
       "<table border=\"1\" class=\"dataframe\">\n",
       "  <thead>\n",
       "    <tr style=\"text-align: right;\">\n",
       "      <th></th>\n",
       "      <th>sentence</th>\n",
       "      <th>label</th>\n",
       "    </tr>\n",
       "  </thead>\n",
       "  <tbody>\n",
       "    <tr>\n",
       "      <th>0</th>\n",
       "      <td>Lovely lake after change of .</td>\n",
       "      <td>1</td>\n",
       "    </tr>\n",
       "    <tr>\n",
       "      <th>1</th>\n",
       "      <td>( That ' s how it ' s written Our accommodatio...</td>\n",
       "      <td>1</td>\n",
       "    </tr>\n",
       "    <tr>\n",
       "      <th>2</th>\n",
       "      <td>Staff are amazing and the wonderful .</td>\n",
       "      <td>1</td>\n",
       "    </tr>\n",
       "    <tr>\n",
       "      <th>3</th>\n",
       "      <td>We selected the executive lounge option on our...</td>\n",
       "      <td>1</td>\n",
       "    </tr>\n",
       "    <tr>\n",
       "      <th>4</th>\n",
       "      <td>One of the of the lounge is that you get the o...</td>\n",
       "      <td>1</td>\n",
       "    </tr>\n",
       "    <tr>\n",
       "      <th>...</th>\n",
       "      <td>...</td>\n",
       "      <td>...</td>\n",
       "    </tr>\n",
       "    <tr>\n",
       "      <th>47652</th>\n",
       "      <td>Conveniently , we to everything in the old qua...</td>\n",
       "      <td>0</td>\n",
       "    </tr>\n",
       "    <tr>\n",
       "      <th>47653</th>\n",
       "      <td>We totally our stay .</td>\n",
       "      <td>0</td>\n",
       "    </tr>\n",
       "    <tr>\n",
       "      <th>47654</th>\n",
       "      <td>in the middle of with all you Need close to th...</td>\n",
       "      <td>0</td>\n",
       "    </tr>\n",
       "    <tr>\n",
       "      <th>47655</th>\n",
       "      <td>They offer Airport Transportation .</td>\n",
       "      <td>0</td>\n",
       "    </tr>\n",
       "    <tr>\n",
       "      <th>47656</th>\n",
       "      <td>Swimming Pool and small gym available .</td>\n",
       "      <td>0</td>\n",
       "    </tr>\n",
       "  </tbody>\n",
       "</table>\n",
       "<p>47657 rows × 2 columns</p>\n",
       "</div>"
      ],
      "text/plain": [
       "                                                sentence  label\n",
       "0                          Lovely lake after change of .      1\n",
       "1      ( That ' s how it ' s written Our accommodatio...      1\n",
       "2                  Staff are amazing and the wonderful .      1\n",
       "3      We selected the executive lounge option on our...      1\n",
       "4      One of the of the lounge is that you get the o...      1\n",
       "...                                                  ...    ...\n",
       "47652  Conveniently , we to everything in the old qua...      0\n",
       "47653                              We totally our stay .      0\n",
       "47654  in the middle of with all you Need close to th...      0\n",
       "47655                They offer Airport Transportation .      0\n",
       "47656            Swimming Pool and small gym available .      0\n",
       "\n",
       "[47657 rows x 2 columns]"
      ]
     },
     "execution_count": 41,
     "metadata": {},
     "output_type": "execute_result"
    }
   ],
   "source": [
    "df3 = pd.DataFrame({\n",
    "    \"sentence\": df3[1].tolist(),\n",
    "    \"label\": df3[2].tolist()\n",
    "})\n",
    "df3"
   ]
  },
  {
   "cell_type": "code",
   "execution_count": 42,
   "id": "4be419ce",
   "metadata": {},
   "outputs": [
    {
     "data": {
      "text/plain": [
       "label\n",
       "1    33771\n",
       "0    13886\n",
       "Name: count, dtype: int64"
      ]
     },
     "execution_count": 42,
     "metadata": {},
     "output_type": "execute_result"
    }
   ],
   "source": [
    "df3['label'].value_counts()"
   ]
  },
  {
   "cell_type": "code",
   "execution_count": 43,
   "id": "2820b0d4",
   "metadata": {},
   "outputs": [
    {
     "name": "stdout",
     "output_type": "stream",
     "text": [
      "<class 'pandas.core.frame.DataFrame'>\n",
      "Index: 38125 entries, 11437 to 28487\n",
      "Data columns (total 2 columns):\n",
      " #   Column    Non-Null Count  Dtype \n",
      "---  ------    --------------  ----- \n",
      " 0   sentence  38125 non-null  object\n",
      " 1   label     38125 non-null  int64 \n",
      "dtypes: int64(1), object(1)\n",
      "memory usage: 893.6+ KB\n",
      "None\n",
      "----\n",
      "\n",
      "<class 'pandas.core.frame.DataFrame'>\n",
      "Index: 9532 entries, 15510 to 35159\n",
      "Data columns (total 2 columns):\n",
      " #   Column    Non-Null Count  Dtype \n",
      "---  ------    --------------  ----- \n",
      " 0   sentence  9532 non-null   object\n",
      " 1   label     9532 non-null   int64 \n",
      "dtypes: int64(1), object(1)\n",
      "memory usage: 223.4+ KB\n",
      "None\n"
     ]
    }
   ],
   "source": [
    "from sklearn.model_selection import train_test_split\n",
    "\n",
    "\n",
    "# Assuming you have your feature data in X and label data in y\n",
    "\n",
    "# Split the data into training and testing sets, stratifying based on the label y\n",
    "X_train, X_test, y_train, y_test = train_test_split(df3, df3, test_size=0.2, stratify=df3['label'], random_state=42)\n",
    "\n",
    "# Now, you have X_train, X_test, y_train, y_test with preserved label distribution.\n",
    "print(X_train.info())\n",
    "\n",
    "print(\"----\\n\")\n",
    "\n",
    "print(y_test.info())"
   ]
  },
  {
   "cell_type": "code",
   "execution_count": 44,
   "id": "980adab3",
   "metadata": {},
   "outputs": [
    {
     "name": "stdout",
     "output_type": "stream",
     "text": [
      "label\n",
      "1    27016\n",
      "0    11109\n",
      "Name: count, dtype: int64\n",
      "----\n",
      "\n",
      "label\n",
      "1    6755\n",
      "0    2777\n",
      "Name: count, dtype: int64\n"
     ]
    }
   ],
   "source": [
    "print(X_train['label'].value_counts())\n",
    "\n",
    "print(\"----\\n\")\n",
    "\n",
    "print(y_test['label'].value_counts())"
   ]
  },
  {
   "cell_type": "code",
   "execution_count": 47,
   "id": "cf033e4e",
   "metadata": {},
   "outputs": [
    {
     "data": {
      "text/html": [
       "<div>\n",
       "<style scoped>\n",
       "    .dataframe tbody tr th:only-of-type {\n",
       "        vertical-align: middle;\n",
       "    }\n",
       "\n",
       "    .dataframe tbody tr th {\n",
       "        vertical-align: top;\n",
       "    }\n",
       "\n",
       "    .dataframe thead th {\n",
       "        text-align: right;\n",
       "    }\n",
       "</style>\n",
       "<table border=\"1\" class=\"dataframe\">\n",
       "  <thead>\n",
       "    <tr style=\"text-align: right;\">\n",
       "      <th></th>\n",
       "      <th>sentence</th>\n",
       "      <th>label</th>\n",
       "    </tr>\n",
       "  </thead>\n",
       "  <tbody>\n",
       "    <tr>\n",
       "      <th>8366</th>\n",
       "      <td>Stayed two nights at this hotel , great locati...</td>\n",
       "      <td>1</td>\n",
       "    </tr>\n",
       "    <tr>\n",
       "      <th>41097</th>\n",
       "      <td>The Sea was too rough to swim in due to our ti...</td>\n",
       "      <td>0</td>\n",
       "    </tr>\n",
       "    <tr>\n",
       "      <th>2829</th>\n",
       "      <td>Nice pool and gym and free .</td>\n",
       "      <td>1</td>\n",
       "    </tr>\n",
       "    <tr>\n",
       "      <th>26558</th>\n",
       "      <td>There ' a also a great Pho noodle soup place n...</td>\n",
       "      <td>1</td>\n",
       "    </tr>\n",
       "    <tr>\n",
       "      <th>22717</th>\n",
       "      <td>We met a very nice team , just young people .</td>\n",
       "      <td>1</td>\n",
       "    </tr>\n",
       "  </tbody>\n",
       "</table>\n",
       "</div>"
      ],
      "text/plain": [
       "                                                sentence  label\n",
       "8366   Stayed two nights at this hotel , great locati...      1\n",
       "41097  The Sea was too rough to swim in due to our ti...      0\n",
       "2829                        Nice pool and gym and free .      1\n",
       "26558  There ' a also a great Pho noodle soup place n...      1\n",
       "22717      We met a very nice team , just young people .      1"
      ]
     },
     "execution_count": 47,
     "metadata": {},
     "output_type": "execute_result"
    }
   ],
   "source": [
    "X_test.sample(5)"
   ]
  },
  {
   "cell_type": "code",
   "execution_count": 48,
   "id": "b58061ac",
   "metadata": {},
   "outputs": [
    {
     "data": {
      "text/html": [
       "<div>\n",
       "<style scoped>\n",
       "    .dataframe tbody tr th:only-of-type {\n",
       "        vertical-align: middle;\n",
       "    }\n",
       "\n",
       "    .dataframe tbody tr th {\n",
       "        vertical-align: top;\n",
       "    }\n",
       "\n",
       "    .dataframe thead th {\n",
       "        text-align: right;\n",
       "    }\n",
       "</style>\n",
       "<table border=\"1\" class=\"dataframe\">\n",
       "  <thead>\n",
       "    <tr style=\"text-align: right;\">\n",
       "      <th></th>\n",
       "      <th>sentence</th>\n",
       "      <th>label</th>\n",
       "    </tr>\n",
       "  </thead>\n",
       "  <tbody>\n",
       "    <tr>\n",
       "      <th>15510</th>\n",
       "      <td>Take one of the free from the hotel and explor...</td>\n",
       "      <td>1</td>\n",
       "    </tr>\n",
       "    <tr>\n",
       "      <th>2056</th>\n",
       "      <td>, The were comfortable and the were clean .</td>\n",
       "      <td>1</td>\n",
       "    </tr>\n",
       "    <tr>\n",
       "      <th>17211</th>\n",
       "      <td>, The pool and beach area are great .</td>\n",
       "      <td>1</td>\n",
       "    </tr>\n",
       "    <tr>\n",
       "      <th>7664</th>\n",
       "      <td>Kim , she is a very nice lady , she an a very ...</td>\n",
       "      <td>1</td>\n",
       "    </tr>\n",
       "    <tr>\n",
       "      <th>11284</th>\n",
       "      <td>The staff were consistently kind , helpful and...</td>\n",
       "      <td>1</td>\n",
       "    </tr>\n",
       "  </tbody>\n",
       "</table>\n",
       "</div>"
      ],
      "text/plain": [
       "                                                sentence  label\n",
       "15510  Take one of the free from the hotel and explor...      1\n",
       "2056         , The were comfortable and the were clean .      1\n",
       "17211              , The pool and beach area are great .      1\n",
       "7664   Kim , she is a very nice lady , she an a very ...      1\n",
       "11284  The staff were consistently kind , helpful and...      1"
      ]
     },
     "execution_count": 48,
     "metadata": {},
     "output_type": "execute_result"
    }
   ],
   "source": [
    "y_test.head()"
   ]
  },
  {
   "cell_type": "code",
   "execution_count": 49,
   "id": "edd529c5",
   "metadata": {},
   "outputs": [],
   "source": [
    "folder = \"/home/ubuntu/WORK/selfexplain-semantic-topic-modeling/SelfExplain/data/RoBERTa-Tripadvisor/\"\n",
    "X_train.to_csv(folder + 'train.tsv', sep='\\t', index=False)\n",
    "y_test.to_csv(folder + 'dev.tsv', sep='\\t', index=False)"
   ]
  },
  {
   "cell_type": "code",
   "execution_count": null,
   "id": "e63aa0ae",
   "metadata": {},
   "outputs": [],
   "source": []
  },
  {
   "cell_type": "markdown",
   "id": "13fe347b",
   "metadata": {},
   "source": [
    "# Check average length of sameple dataset"
   ]
  },
  {
   "cell_type": "code",
   "execution_count": null,
   "id": "fa4be3be",
   "metadata": {},
   "outputs": [],
   "source": [
    "file_path = \"/home/ubuntu/WORK/selfexplain-semantic-topic-modeling/SelfExplain/data/RoBERTa-SST-2/train.tsv\""
   ]
  },
  {
   "cell_type": "code",
   "execution_count": null,
   "id": "b1d474c1",
   "metadata": {},
   "outputs": [],
   "source": [
    "df = pd.read_csv(file_path, sep='\\t')\n",
    "df.info()"
   ]
  },
  {
   "cell_type": "code",
   "execution_count": null,
   "id": "5743d0c0",
   "metadata": {},
   "outputs": [],
   "source": [
    "df.sample(10)"
   ]
  },
  {
   "cell_type": "code",
   "execution_count": null,
   "id": "d7e3bda1",
   "metadata": {},
   "outputs": [],
   "source": []
  },
  {
   "cell_type": "code",
   "execution_count": null,
   "id": "969b99a0",
   "metadata": {},
   "outputs": [],
   "source": [
    "def get_len(r):\n",
    "    return len(str(r).split())"
   ]
  },
  {
   "cell_type": "code",
   "execution_count": 15,
   "id": "9b250480",
   "metadata": {},
   "outputs": [],
   "source": [
    "sentences_lens = df['sentence'].apply(lambda r: get_len(r))"
   ]
  },
  {
   "cell_type": "code",
   "execution_count": 16,
   "id": "fc1cd229",
   "metadata": {},
   "outputs": [
    {
     "data": {
      "text/plain": [
       "0        21\n",
       "1        22\n",
       "2        15\n",
       "3        36\n",
       "4        50\n",
       "         ..\n",
       "48193     3\n",
       "48194    24\n",
       "48195    11\n",
       "48196     7\n",
       "48197     5\n",
       "Name: sentence, Length: 48198, dtype: int64"
      ]
     },
     "execution_count": 16,
     "metadata": {},
     "output_type": "execute_result"
    }
   ],
   "source": [
    "sentences_lens"
   ]
  },
  {
   "cell_type": "code",
   "execution_count": 17,
   "id": "eaceb170",
   "metadata": {},
   "outputs": [
    {
     "data": {
      "text/plain": [
       "count    48198.000000\n",
       "mean        14.995560\n",
       "std         12.850073\n",
       "min          1.000000\n",
       "25%          7.000000\n",
       "50%         12.000000\n",
       "75%         19.000000\n",
       "max        231.000000\n",
       "Name: sentence, dtype: float64"
      ]
     },
     "execution_count": 17,
     "metadata": {},
     "output_type": "execute_result"
    }
   ],
   "source": [
    "sentences_lens.describe()"
   ]
  },
  {
   "cell_type": "code",
   "execution_count": 18,
   "id": "5e3cb3b2",
   "metadata": {},
   "outputs": [
    {
     "data": {
      "image/png": "[encoded data removed]",
      "text/plain": [
       "<Figure size 800x600 with 1 Axes>"
      ]
     },
     "metadata": {},
     "output_type": "display_data"
    }
   ],
   "source": [
    "import pandas as pd\n",
    "import matplotlib.pyplot as plt\n",
    "\n",
    "# Assuming you have your dataset loaded in a pandas DataFrame named 'df'\n",
    "\n",
    "# Choose the column for which you want to plot outliers\n",
    "column_name = 'column_name_to_plot'\n",
    "\n",
    "# Plot a box plot for the selected column\n",
    "plt.figure(figsize=(8, 6))\n",
    "plt.boxplot(sentences_lens)\n",
    "plt.title(f'Box Plot of {column_name}')\n",
    "plt.ylabel('Values')\n",
    "plt.xticks([1], [column_name])  # Show the column name on the x-axis\n",
    "plt.grid(True)\n",
    "plt.show()\n"
   ]
  },
  {
   "cell_type": "code",
   "execution_count": 19,
   "id": "4262a40f",
   "metadata": {},
   "outputs": [
    {
     "data": {
      "image/png": "[encoded data removed]",
      "text/plain": [
       "<Figure size 800x600 with 1 Axes>"
      ]
     },
     "metadata": {},
     "output_type": "display_data"
    },
    {
     "data": {
      "image/png": "[encoded data removed]",
      "text/plain": [
       "<Figure size 800x600 with 1 Axes>"
      ]
     },
     "metadata": {},
     "output_type": "display_data"
    }
   ],
   "source": [
    "# Plot a scatter plot of the column data to visualize outliers\n",
    "plt.figure(figsize=(8, 6))\n",
    "plt.scatter(range(len(sentences_lens)), sentences_lens)\n",
    "plt.title(f'Scatter Plot of {column_name}')\n",
    "plt.ylabel('Values')\n",
    "plt.xlabel('Index')\n",
    "plt.show()\n",
    "\n",
    "# Plot a histogram of the column data to visualize the distribution\n",
    "plt.figure(figsize=(8, 6))\n",
    "plt.hist(sentences_lens, bins=20)\n",
    "plt.title(f'Histogram of {column_name}')\n",
    "plt.xlabel('Values')\n",
    "plt.ylabel('Frequency')\n",
    "plt.show()\n"
   ]
  },
  {
   "cell_type": "markdown",
   "id": "37854d68",
   "metadata": {},
   "source": [
    "From diagrams, so let select the number of words (after splitted) **in range 10 - 250**"
   ]
  },
  {
   "cell_type": "code",
   "execution_count": null,
   "id": "f0db8751",
   "metadata": {},
   "outputs": [],
   "source": []
  }
 ],
 "metadata": {
  "kernelspec": {
   "display_name": "bertopic",
   "language": "python",
   "name": "bertopic"
  },
  "language_info": {
   "codemirror_mode": {
    "name": "ipython",
    "version": 3
   },
   "file_extension": ".py",
   "mimetype": "text/x-python",
   "name": "python",
   "nbconvert_exporter": "python",
   "pygments_lexer": "ipython3",
   "version": "3.10.12"
  }
 },
 "nbformat": 4,
 "nbformat_minor": 5
}

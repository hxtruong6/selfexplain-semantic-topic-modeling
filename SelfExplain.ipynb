{
 "cells": [
  {
   "cell_type": "code",
   "execution_count": 5,
   "id": "6383824c-8e5a-4001-9b9d-8369dc698668",
   "metadata": {},
   "outputs": [],
   "source": [
    "%%capture\n",
    "!pip install benepar\n",
    "!benepar.download('benepar_en3')"
   ]
  },
  {
   "cell_type": "code",
   "execution_count": null,
   "id": "09f31871-7c04-4b43-8477-8865286a204f",
   "metadata": {},
   "outputs": [
    {
     "ename": "NameError",
     "evalue": "name 'benepar' is not defined",
     "output_type": "error",
     "traceback": [
      "\u001b[0;31m---------------------------------------------------------------------------\u001b[0m",
      "\u001b[0;31mNameError\u001b[0m                                 Traceback (most recent call last)",
      "Cell \u001b[0;32mIn [4], line 1\u001b[0m\n\u001b[0;32m----> 1\u001b[0m \u001b[43mbenepar\u001b[49m\u001b[38;5;241m.\u001b[39mdownload(\u001b[38;5;124m'\u001b[39m\u001b[38;5;124mbenepar_en3\u001b[39m\u001b[38;5;124m'\u001b[39m)\n",
      "\u001b[0;31mNameError\u001b[0m: name 'benepar' is not defined"
     ]
    }
   ],
   "source": [
    "!sh scripts/run_preprocessing.sh"
   ]
  },
  {
   "cell_type": "code",
   "execution_count": 6,
   "id": "97cb98de-0760-429d-8f7b-7fb60a23ff62",
   "metadata": {},
   "outputs": [
    {
     "name": "stdout",
     "output_type": "stream",
     "text": [
      "Cloning into 'SelfExplain'...\n",
      "remote: Enumerating objects: 244, done.\u001b[K\n",
      "remote: Counting objects: 100% (75/75), done.\u001b[K\n",
      "remote: Compressing objects: 100% (35/35), done.\u001b[K\n",
      "remote: Total 244 (delta 47), reused 41 (delta 40), pack-reused 169\u001b[K\n",
      "Receiving objects: 100% (244/244), 2.41 MiB | 21.08 MiB/s, done.\n",
      "Resolving deltas: 100% (128/128), done.\n"
     ]
    }
   ],
   "source": [
    "!git clone https://github.com/dheerajrajagopal/SelfExplain"
   ]
  },
  {
   "cell_type": "code",
   "execution_count": null,
   "id": "88fead10-a714-4bdd-86c7-43062104e05d",
   "metadata": {},
   "outputs": [],
   "source": []
  }
 ],
 "metadata": {
  "kernelspec": {
   "display_name": "Python 3 (ipykernel)",
   "language": "python",
   "name": "python3"
  },
  "language_info": {
   "codemirror_mode": {
    "name": "ipython",
    "version": 3
   },
   "file_extension": ".py",
   "mimetype": "text/x-python",
   "name": "python",
   "nbconvert_exporter": "python",
   "pygments_lexer": "ipython3",
   "version": "3.8.10"
  }
 },
 "nbformat": 4,
 "nbformat_minor": 5
}
